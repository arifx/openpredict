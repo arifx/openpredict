{
 "cells": [
  {
   "cell_type": "code",
   "execution_count": 1,
   "metadata": {},
   "outputs": [],
   "source": [
    "\"\"\"\n",
    "RDF generator for the PREDICT drug indication gold standard (http://www.paccanarolab.org/static_content/disease_similarity/mim2mesh.tsv)\n",
    "@version 1.0\n",
    "@author Remzi Celebi\n",
    "\"\"\"\n",
    "\n",
    "\n",
    "import pandas as pd\n",
    "from csv import reader\n",
    "from src.util import utils\n",
    "from src.util.utils import Dataset, DataResource\n",
    "from rdflib import Graph, URIRef, Literal, RDF, ConjunctiveGraph\n",
    "from rdflib import Namespace\n",
    "import datetime"
   ]
  },
  {
   "cell_type": "code",
   "execution_count": 2,
   "metadata": {},
   "outputs": [],
   "source": [
    "url = 'http://www.paccanarolab.org/static_content/disease_similarity/mim2mesh.tsv'\n",
    "df = pd.read_csv(url,header=None)"
   ]
  },
  {
   "cell_type": "code",
   "execution_count": 3,
   "metadata": {},
   "outputs": [],
   "source": [
    "#save the original file\n",
    "df.to_csv('data/external/mim2mesh.tsv', sep=',', index=False, header=None)"
   ]
  },
  {
   "cell_type": "code",
   "execution_count": 4,
   "metadata": {},
   "outputs": [],
   "source": [
    "omim_annots =[]\n",
    "with open('data/external/mim2mesh.tsv','r') as mim2mesh_file:\n",
    "    for row in mim2mesh_file:\n",
    "        line = row.strip().split('\\t')\n",
    "        omim =line[0]\n",
    "        for i in range(1,len(line)):\n",
    "            omim_annots.append([omim,line[i]])"
   ]
  },
  {
   "cell_type": "code",
   "execution_count": 5,
   "metadata": {},
   "outputs": [],
   "source": [
    "mim2mesh_df = pd.DataFrame(omim_annots, columns=['disease','annotation'])"
   ]
  },
  {
   "cell_type": "code",
   "execution_count": 6,
   "metadata": {},
   "outputs": [
    {
     "data": {
      "text/html": [
       "<div>\n",
       "<style scoped>\n",
       "    .dataframe tbody tr th:only-of-type {\n",
       "        vertical-align: middle;\n",
       "    }\n",
       "\n",
       "    .dataframe tbody tr th {\n",
       "        vertical-align: top;\n",
       "    }\n",
       "\n",
       "    .dataframe thead th {\n",
       "        text-align: right;\n",
       "    }\n",
       "</style>\n",
       "<table border=\"1\" class=\"dataframe\">\n",
       "  <thead>\n",
       "    <tr style=\"text-align: right;\">\n",
       "      <th></th>\n",
       "      <th>disease</th>\n",
       "      <th>annotation</th>\n",
       "    </tr>\n",
       "  </thead>\n",
       "  <tbody>\n",
       "    <tr>\n",
       "      <th>0</th>\n",
       "      <td>110000</td>\n",
       "      <td>D000293</td>\n",
       "    </tr>\n",
       "    <tr>\n",
       "      <th>1</th>\n",
       "      <td>110000</td>\n",
       "      <td>D000328</td>\n",
       "    </tr>\n",
       "    <tr>\n",
       "      <th>2</th>\n",
       "      <td>110000</td>\n",
       "      <td>D000368</td>\n",
       "    </tr>\n",
       "    <tr>\n",
       "      <th>3</th>\n",
       "      <td>110000</td>\n",
       "      <td>D003483</td>\n",
       "    </tr>\n",
       "    <tr>\n",
       "      <th>4</th>\n",
       "      <td>110000</td>\n",
       "      <td>D003937</td>\n",
       "    </tr>\n",
       "  </tbody>\n",
       "</table>\n",
       "</div>"
      ],
      "text/plain": [
       "  disease annotation\n",
       "0  110000    D000293\n",
       "1  110000    D000328\n",
       "2  110000    D000368\n",
       "3  110000    D003483\n",
       "4  110000    D003937"
      ]
     },
     "execution_count": 6,
     "metadata": {},
     "output_type": "execute_result"
    }
   ],
   "source": [
    "mim2mesh_df.head()"
   ]
  },
  {
   "cell_type": "code",
   "execution_count": 7,
   "metadata": {},
   "outputs": [
    {
     "data": {
      "text/html": [
       "<div>\n",
       "<style scoped>\n",
       "    .dataframe tbody tr th:only-of-type {\n",
       "        vertical-align: middle;\n",
       "    }\n",
       "\n",
       "    .dataframe tbody tr th {\n",
       "        vertical-align: top;\n",
       "    }\n",
       "\n",
       "    .dataframe thead th {\n",
       "        text-align: right;\n",
       "    }\n",
       "</style>\n",
       "<table border=\"1\" class=\"dataframe\">\n",
       "  <thead>\n",
       "    <tr style=\"text-align: right;\">\n",
       "      <th></th>\n",
       "      <th>http://semanticscience.org/resource/SIO_000255</th>\n",
       "    </tr>\n",
       "    <tr>\n",
       "      <th>disease</th>\n",
       "      <th></th>\n",
       "    </tr>\n",
       "  </thead>\n",
       "  <tbody>\n",
       "    <tr>\n",
       "      <th>http://bio2rdf.org/omim:110000</th>\n",
       "      <td>http://bio2rdf.org/mesh:D000293</td>\n",
       "    </tr>\n",
       "    <tr>\n",
       "      <th>http://bio2rdf.org/omim:110000</th>\n",
       "      <td>http://bio2rdf.org/mesh:D000328</td>\n",
       "    </tr>\n",
       "    <tr>\n",
       "      <th>http://bio2rdf.org/omim:110000</th>\n",
       "      <td>http://bio2rdf.org/mesh:D000368</td>\n",
       "    </tr>\n",
       "    <tr>\n",
       "      <th>http://bio2rdf.org/omim:110000</th>\n",
       "      <td>http://bio2rdf.org/mesh:D003483</td>\n",
       "    </tr>\n",
       "    <tr>\n",
       "      <th>http://bio2rdf.org/omim:110000</th>\n",
       "      <td>http://bio2rdf.org/mesh:D003937</td>\n",
       "    </tr>\n",
       "  </tbody>\n",
       "</table>\n",
       "</div>"
      ],
      "text/plain": [
       "                               http://semanticscience.org/resource/SIO_000255\n",
       "disease                                                                      \n",
       "http://bio2rdf.org/omim:110000                http://bio2rdf.org/mesh:D000293\n",
       "http://bio2rdf.org/omim:110000                http://bio2rdf.org/mesh:D000328\n",
       "http://bio2rdf.org/omim:110000                http://bio2rdf.org/mesh:D000368\n",
       "http://bio2rdf.org/omim:110000                http://bio2rdf.org/mesh:D003483\n",
       "http://bio2rdf.org/omim:110000                http://bio2rdf.org/mesh:D003937"
      ]
     },
     "execution_count": 7,
     "metadata": {},
     "output_type": "execute_result"
    }
   ],
   "source": [
    "mim2mesh_df = pd.DataFrame(omim_annots, columns=['disease','annotation'])\n",
    "\n",
    "mim2mesh_df['disease'] = mim2mesh_df['disease'].map(lambda x: 'http://bio2rdf.org/omim:'+str(x))\n",
    "mim2mesh_df['annotation'] = mim2mesh_df['annotation'].map(lambda x: 'http://bio2rdf.org/mesh:'+str(x))\n",
    "mim2mesh_df = mim2mesh_df.set_index('disease', drop=True)\n",
    "mim2mesh_df.rename(columns={'annotation':'http://semanticscience.org/resource/SIO_000255'},inplace=True)\n",
    "mim2mesh_df.head()"
   ]
  },
  {
   "cell_type": "code",
   "execution_count": 8,
   "metadata": {},
   "outputs": [],
   "source": [
    "column_types ={'http://semanticscience.org/resource/SIO_000255':'URI'}\n",
    "graphURI = URIRef('http://w3id.org/fairworkflows/dataset.openpredict.meshannot.R1')\n",
    "    \n",
    "g = ConjunctiveGraph(identifier = graphURI )     \n",
    "g =  utils.to_rdf(g, mim2mesh_df, column_types, 'http://bio2rdf.org/omim_vocabulary:Phenotype' )\n"
   ]
  },
  {
   "cell_type": "code",
   "execution_count": 9,
   "metadata": {},
   "outputs": [],
   "source": [
    "g.serialize('data/rdf/omim_mesh_annotations.nq', format='nquads')"
   ]
  },
  {
   "cell_type": "code",
   "execution_count": 10,
   "metadata": {},
   "outputs": [],
   "source": [
    "def addMetaData(g, graphURI):\n",
    "    #generate dataset\n",
    "    data_source = Dataset(qname=graphURI, graph = g)\n",
    "    data_source.setURI(graphURI)\n",
    "    data_source.setTitle('Mesh Annotations for OMIM diseases')\n",
    "    data_source.setDescription('This dataset contains the MeSH terms associated with the publications referenced in OMIM. This dataset is used in  \" https://doi.org/10.1038/srep17658\"')\n",
    "    data_source.setPublisher('http://www.paccanarolab.org')\n",
    "    data_source.setPublisherName('the Paccanaro Lab')\n",
    "    data_source.addRight('use-share-modify')\n",
    "    data_source.addTheme('http://www.wikidata.org/entity/Q199897')\n",
    "    data_source.addTheme('http://www.wikidata.org/entity/Q857525')\n",
    "    data_source.setLicense('http://creativecommons.org/licenses/by/4.0/')\n",
    "    data_source.setHomepage('http://www.paccanarolab.org/disease_similarity/')\n",
    "    data_source.setVersion('1.0')\n",
    "\n",
    "\n",
    "    #generate dataset distribution\n",
    "    data_dist = DataResource(qname=graphURI, graph = data_source.toRDF())\n",
    "    data_dist.setURI('http:/w3id.org/fairworkflows/dataset.openpredict.meshannot/version/1/source')\n",
    "    data_dist.setTitle('Mesh Annotations by the Paccanaro Lab(mim2mesh.tsv)')\n",
    "    data_dist.setLicense('http://creativecommons.org/licenses/by/4.0/')\n",
    "    data_dist.setVersion('1.0')\n",
    "    data_dist.setFormat('text/tab-separated-value')\n",
    "    data_dist.setMediaType('text/tab-separated-value')\n",
    "    data_dist.setPublisher('http://www.paccanarolab.org')\n",
    "    data_dist.setDownloadURL('http://www.paccanarolab.org/static_content/disease_similarity/mim2mesh.tsv')\n",
    "    data_dist.addRight('use-share-modify')\n",
    "    data_dist.setRetrievedDate(datetime.datetime.now().strftime(\"%Y-%m-%d %H:%M:%S\"))\n",
    "    data_dist.setDataset(data_source.getURI())\n",
    "\n",
    "    #generate RDF data distrubtion\n",
    "    rdf_dist = DataResource(qname=graphURI, graph = data_dist.toRDF() )\n",
    "    rdf_dist.setURI('http:/w3id.org/fairworkflows/dataset.openpredict.meshannot/version/1/rdf/data')\n",
    "    rdf_dist.setTitle('RDF Version of the MESH Annotations for OMIM diseases')\n",
    "    rdf_dist.setLicense('http://creativecommons.org/licenses/by/3.0/')\n",
    "    rdf_dist.setVersion('1.0')\n",
    "    rdf_dist.setFormat('application/n-quads')\n",
    "    rdf_dist.setMediaType('application/n-quads')\n",
    "    rdf_dist.addRight('use-share-modify')\n",
    "    rdf_dist.addRight('by-attribution')\n",
    "    rdf_dist.addRight('restricted-by-source-license')\n",
    "    rdf_dist.setCreateDate(datetime.datetime.now().strftime(\"%Y-%m-%d %H:%M:%S\"))\n",
    "    rdf_dist.setCreator('https://github.com/fair-workflows/openpredict/src/RDFConversionOfMeshAnnotation.py')\n",
    "    rdf_dist.setDownloadURL('https://github.com/fair-workflows/openpredict/blob/master/data/rdf/omim_mesh_annotations.nq.gz')\n",
    "    rdf_dist.setDataset(data_dist.getURI())\n",
    "      \n",
    "    return rdf_dist.toRDF()"
   ]
  },
  {
   "cell_type": "code",
   "execution_count": 12,
   "metadata": {},
   "outputs": [],
   "source": [
    "g = ConjunctiveGraph(identifier = graphURI)\n",
    "g = addMetaData(g, graphURI)"
   ]
  },
  {
   "cell_type": "code",
   "execution_count": 13,
   "metadata": {},
   "outputs": [
    {
     "name": "stdout",
     "output_type": "stream",
     "text": [
      "RDF is generated at data/rdf/omim_mesh_annotations_metadata.nq\n"
     ]
    }
   ],
   "source": [
    "outfile ='data/rdf/omim_mesh_annotations_metadata.nq'\n",
    "g.serialize(outfile, format='nquads')\n",
    "print('RDF is generated at '+outfile)"
   ]
  },
  {
   "cell_type": "code",
   "execution_count": null,
   "metadata": {},
   "outputs": [],
   "source": []
  }
 ],
 "metadata": {
  "kernelspec": {
   "display_name": "Python 3",
   "language": "python",
   "name": "python3"
  },
  "language_info": {
   "codemirror_mode": {
    "name": "ipython",
    "version": 3
   },
   "file_extension": ".py",
   "mimetype": "text/x-python",
   "name": "python",
   "nbconvert_exporter": "python",
   "pygments_lexer": "ipython3",
   "version": "3.7.3"
  }
 },
 "nbformat": 4,
 "nbformat_minor": 2
}
