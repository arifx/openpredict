{
 "cells": [
  {
   "cell_type": "code",
   "execution_count": 1,
   "metadata": {},
   "outputs": [],
   "source": [
    "import pandas as pd"
   ]
  },
  {
   "cell_type": "code",
   "execution_count": 20,
   "metadata": {},
   "outputs": [],
   "source": [
    "url = 'http://www.paccanarolab.org/static_content/disease_similarity/mim2mesh.tsv'\n",
    "df = pd.read_csv(url,header=None)"
   ]
  },
  {
   "cell_type": "code",
   "execution_count": 25,
   "metadata": {},
   "outputs": [],
   "source": [
    "df.to_csv('data/external/mim2mesh.tsv', sep=',', index=False, header=None)"
   ]
  },
  {
   "cell_type": "code",
   "execution_count": 39,
   "metadata": {},
   "outputs": [],
   "source": [
    "omim_annots =[]\n",
    "with open('data/external/mim2mesh.tsv','r') as mim2mesh_file:\n",
    "    for row in mim2mesh_file:\n",
    "        line = row.strip().split('\\t')\n",
    "        omim =line[0]\n",
    "        for i in range(1,len(line)):\n",
    "            omim_annots.append([omim,line[i]])"
   ]
  },
  {
   "cell_type": "code",
   "execution_count": 40,
   "metadata": {},
   "outputs": [],
   "source": [
    "mim2mesh_df = pd.DataFrame(omim_annots, columns=['disease','annotation'])"
   ]
  },
  {
   "cell_type": "code",
   "execution_count": 41,
   "metadata": {},
   "outputs": [
    {
     "data": {
      "text/html": [
       "<div>\n",
       "<style scoped>\n",
       "    .dataframe tbody tr th:only-of-type {\n",
       "        vertical-align: middle;\n",
       "    }\n",
       "\n",
       "    .dataframe tbody tr th {\n",
       "        vertical-align: top;\n",
       "    }\n",
       "\n",
       "    .dataframe thead th {\n",
       "        text-align: right;\n",
       "    }\n",
       "</style>\n",
       "<table border=\"1\" class=\"dataframe\">\n",
       "  <thead>\n",
       "    <tr style=\"text-align: right;\">\n",
       "      <th></th>\n",
       "      <th>disease</th>\n",
       "      <th>annotation</th>\n",
       "    </tr>\n",
       "  </thead>\n",
       "  <tbody>\n",
       "    <tr>\n",
       "      <th>0</th>\n",
       "      <td>110000</td>\n",
       "      <td>D000293</td>\n",
       "    </tr>\n",
       "    <tr>\n",
       "      <th>1</th>\n",
       "      <td>110000</td>\n",
       "      <td>D000328</td>\n",
       "    </tr>\n",
       "    <tr>\n",
       "      <th>2</th>\n",
       "      <td>110000</td>\n",
       "      <td>D000368</td>\n",
       "    </tr>\n",
       "    <tr>\n",
       "      <th>3</th>\n",
       "      <td>110000</td>\n",
       "      <td>D003483</td>\n",
       "    </tr>\n",
       "    <tr>\n",
       "      <th>4</th>\n",
       "      <td>110000</td>\n",
       "      <td>D003937</td>\n",
       "    </tr>\n",
       "  </tbody>\n",
       "</table>\n",
       "</div>"
      ],
      "text/plain": [
       "  disease annotation\n",
       "0  110000    D000293\n",
       "1  110000    D000328\n",
       "2  110000    D000368\n",
       "3  110000    D003483\n",
       "4  110000    D003937"
      ]
     },
     "execution_count": 41,
     "metadata": {},
     "output_type": "execute_result"
    }
   ],
   "source": [
    "mim2mesh_df.head()"
   ]
  },
  {
   "cell_type": "code",
   "execution_count": 42,
   "metadata": {},
   "outputs": [],
   "source": [
    "from rdflib import Graph, URIRef, Literal, RDF, ConjunctiveGraph\n",
    "def to_rdf(g, df, column_types, row_uri):\n",
    "    \"\"\"\n",
    "    Parameters\n",
    "    ----------\n",
    "    g : input rdflib.Graph  \n",
    "    df: DataFrame to be converted into RDF Graph\n",
    "    column_types: dictonary of column and its type, type can be URI or Literal\n",
    "    row_uri: rdf:type value for row index, should be URI\n",
    "    Returns\n",
    "    -------\n",
    "    g: rdflib.Graph generated from DataFrame object\n",
    "    \"\"\"\n",
    "    \n",
    "    for (index, series) in df.iterrows():\n",
    "        g.add((URIRef(index), RDF.type, URIRef(row_uri)) )\n",
    "        for (column, value) in series.iteritems():\n",
    "            if column_types[column] == 'URI':\n",
    "                g.add((URIRef(index), URIRef(column), URIRef(value)))\n",
    "            else:\n",
    "                g.add((URIRef(index), URIRef(column), Literal(value)))\n",
    "                \n",
    "    return g"
   ]
  },
  {
   "cell_type": "code",
   "execution_count": 43,
   "metadata": {},
   "outputs": [],
   "source": [
    "mim2mesh_df['disease'] = mim2mesh_df['disease'].map(lambda x: 'http://bio2rdf.org/omim:'+str(x))"
   ]
  },
  {
   "cell_type": "code",
   "execution_count": 44,
   "metadata": {},
   "outputs": [],
   "source": [
    "mim2mesh_df['annotation'] = mim2mesh_df['annotation'].map(lambda x: 'http://bio2rdf.org/mesh:'+str(x))"
   ]
  },
  {
   "cell_type": "code",
   "execution_count": 45,
   "metadata": {},
   "outputs": [
    {
     "data": {
      "text/html": [
       "<div>\n",
       "<style scoped>\n",
       "    .dataframe tbody tr th:only-of-type {\n",
       "        vertical-align: middle;\n",
       "    }\n",
       "\n",
       "    .dataframe tbody tr th {\n",
       "        vertical-align: top;\n",
       "    }\n",
       "\n",
       "    .dataframe thead th {\n",
       "        text-align: right;\n",
       "    }\n",
       "</style>\n",
       "<table border=\"1\" class=\"dataframe\">\n",
       "  <thead>\n",
       "    <tr style=\"text-align: right;\">\n",
       "      <th></th>\n",
       "      <th>disease</th>\n",
       "      <th>annotation</th>\n",
       "    </tr>\n",
       "  </thead>\n",
       "  <tbody>\n",
       "    <tr>\n",
       "      <th>0</th>\n",
       "      <td>http://bio2rdf.org/omim:110000</td>\n",
       "      <td>http://bio2rdf.org/mesh:D000293</td>\n",
       "    </tr>\n",
       "    <tr>\n",
       "      <th>1</th>\n",
       "      <td>http://bio2rdf.org/omim:110000</td>\n",
       "      <td>http://bio2rdf.org/mesh:D000328</td>\n",
       "    </tr>\n",
       "    <tr>\n",
       "      <th>2</th>\n",
       "      <td>http://bio2rdf.org/omim:110000</td>\n",
       "      <td>http://bio2rdf.org/mesh:D000368</td>\n",
       "    </tr>\n",
       "    <tr>\n",
       "      <th>3</th>\n",
       "      <td>http://bio2rdf.org/omim:110000</td>\n",
       "      <td>http://bio2rdf.org/mesh:D003483</td>\n",
       "    </tr>\n",
       "    <tr>\n",
       "      <th>4</th>\n",
       "      <td>http://bio2rdf.org/omim:110000</td>\n",
       "      <td>http://bio2rdf.org/mesh:D003937</td>\n",
       "    </tr>\n",
       "  </tbody>\n",
       "</table>\n",
       "</div>"
      ],
      "text/plain": [
       "                          disease                       annotation\n",
       "0  http://bio2rdf.org/omim:110000  http://bio2rdf.org/mesh:D000293\n",
       "1  http://bio2rdf.org/omim:110000  http://bio2rdf.org/mesh:D000328\n",
       "2  http://bio2rdf.org/omim:110000  http://bio2rdf.org/mesh:D000368\n",
       "3  http://bio2rdf.org/omim:110000  http://bio2rdf.org/mesh:D003483\n",
       "4  http://bio2rdf.org/omim:110000  http://bio2rdf.org/mesh:D003937"
      ]
     },
     "execution_count": 45,
     "metadata": {},
     "output_type": "execute_result"
    }
   ],
   "source": [
    "mim2mesh_df.head()"
   ]
  },
  {
   "cell_type": "code",
   "execution_count": 46,
   "metadata": {},
   "outputs": [],
   "source": [
    "mim2mesh_df = mim2mesh_df.set_index('disease', drop=True)"
   ]
  },
  {
   "cell_type": "code",
   "execution_count": 47,
   "metadata": {},
   "outputs": [],
   "source": [
    "mim2mesh_df.rename(columns={'annotation':'http://semanticscience.org/resource/SIO_000255'},inplace=True)"
   ]
  },
  {
   "cell_type": "code",
   "execution_count": 48,
   "metadata": {},
   "outputs": [],
   "source": [
    "column_types ={'http://semanticscience.org/resource/SIO_000255':'URI'}\n",
    "graphURI = URIRef('http://fairworkflows.org/openpredict_resource:fairworkflows.dataset.openpredict.meshannot.R1')\n",
    "    \n",
    "g =  ConjunctiveGraph(identifier = graphURI )     \n",
    "g=  to_rdf(g, mim2mesh_df, column_types, 'http://bio2rdf.org/omim_vocabulary:Phenotype' )"
   ]
  },
  {
   "cell_type": "code",
   "execution_count": 49,
   "metadata": {},
   "outputs": [],
   "source": [
    "from rdflib import Namespace\n",
    "import datetime\n",
    "DC = Namespace(\"http://purl.org/dc/terms/\")\n",
    "def addProvanace(g, graphURI):\n",
    "    now = datetime.datetime.now()\n",
    "    datasetURI= URIRef('https://github.com/fair-workflows/openpredict/data/rdf/omim_mesh_annotations.nq')\n",
    "    g.add((graphURI, RDF.type, DC.Dataset))\n",
    "    g.add((graphURI, URIRef('http://www.w3.org/ns/dcat#distribution'), datasetURI))\n",
    "    sourcedatasetURI =  URIRef('http://www.paccanarolab.org/static_content/disease_similarity/mim2mesh.tsv')\n",
    "    \n",
    "    g.add((datasetURI, DC['title'], Literal('Mesh Annotations for OMIM ids')))\n",
    "    g.add((datasetURI, DC['format'], Literal('application/n-quads')))\n",
    "    g.add((datasetURI, DC['created'], Literal(now.strftime(\"%Y-%m-%d %H:%M:%S\"))))\n",
    "    g.add((datasetURI, DC['creator'], Literal('https://github.com/fair-workflows/openpredict/RDFConversionOfMeshAnnotation.ipynb')))\n",
    "\n",
    "    g.add((datasetURI, DC['homepage'], URIRef('https://github.com/fair-workflows/openpredict/')))\n",
    "    g.add((datasetURI, DC['license'], URIRef('http://creativecommons.org/licenses/by/3.0/')))\n",
    "    g.add((datasetURI, DC['rights'], Literal('use-share-modify')))\n",
    "    g.add((datasetURI, DC['rights'], Literal('by-attribution')))\n",
    "    g.add((datasetURI, DC['rights'], Literal('restricted-by-source-license')))\n",
    "\n",
    "    g.add((datasetURI, DC['source'], sourcedatasetURI))\n",
    "        \n",
    "    g.add((sourcedatasetURI, DC['title'], Literal('OMIM Mesh Annotations (mim2mesh.tsv)')))\n",
    "    g.add((sourcedatasetURI, RDF['type'], URIRef('http://www.w3.org/ns/dcat#Distribution')))\n",
    "    g.add((sourcedatasetURI, DC['homepage'], URIRef('http://www.paccanarolab.org/disease_similarity/')))\n",
    "    g.add((sourcedatasetURI, DC['homepage'], URIRef('https://doi.org/10.1038/srep17658')))\n",
    "    g.add((sourcedatasetURI, URIRef('http://purl.org/pav/retrievedOn'), Literal(now.strftime(\"%Y-%m-%d %H:%M:%S\"))))\n",
    "    g.add((sourcedatasetURI, DC['format'], Literal('text/tsv')))\n",
    "    g.add((sourcedatasetURI, DC['rights'], URIRef('http://creativecommons.org/licenses/by/4.0/')))\n",
    "    g.add((sourcedatasetURI, DC['publisher'], Literal('http://www.paccanarolab.org/')))\n",
    "    g.add((sourcedatasetURI, DC['rights'], Literal('use')))\n",
    "    g.add((sourcedatasetURI, DC['rights'], Literal('no-commercial')))\n",
    "    \n",
    "    return g"
   ]
  },
  {
   "cell_type": "code",
   "execution_count": 50,
   "metadata": {},
   "outputs": [],
   "source": [
    "g= addProvanace(g, graphURI)"
   ]
  },
  {
   "cell_type": "code",
   "execution_count": 51,
   "metadata": {},
   "outputs": [],
   "source": [
    "g.serialize('data/rdf/omim_mesh_annotations.nq', format='nquads')"
   ]
  },
  {
   "cell_type": "code",
   "execution_count": null,
   "metadata": {},
   "outputs": [],
   "source": []
  }
 ],
 "metadata": {
  "kernelspec": {
   "display_name": "Python 3",
   "language": "python",
   "name": "python3"
  },
  "language_info": {
   "codemirror_mode": {
    "name": "ipython",
    "version": 3
   },
   "file_extension": ".py",
   "mimetype": "text/x-python",
   "name": "python",
   "nbconvert_exporter": "python",
   "pygments_lexer": "ipython3",
   "version": "3.7.3"
  }
 },
 "nbformat": 4,
 "nbformat_minor": 2
}
