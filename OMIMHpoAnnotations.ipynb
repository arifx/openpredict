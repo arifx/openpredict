{
 "cells": [
  {
   "cell_type": "code",
   "execution_count": 2,
   "metadata": {},
   "outputs": [],
   "source": [
    "import pandas as pd"
   ]
  },
  {
   "cell_type": "code",
   "execution_count": 5,
   "metadata": {},
   "outputs": [],
   "source": [
    "url = 'http://compbio.charite.de/jenkins/job/hpo.annotations/lastSuccessfulBuild/artifact/misc/phenotype_annotation_hpoteam.tab'\n",
    "hpoannot_df = pd.read_csv(url,sep='\\t', header=None)"
   ]
  },
  {
   "cell_type": "code",
   "execution_count": 12,
   "metadata": {},
   "outputs": [
    {
     "data": {
      "text/html": [
       "<div>\n",
       "<style scoped>\n",
       "    .dataframe tbody tr th:only-of-type {\n",
       "        vertical-align: middle;\n",
       "    }\n",
       "\n",
       "    .dataframe tbody tr th {\n",
       "        vertical-align: top;\n",
       "    }\n",
       "\n",
       "    .dataframe thead th {\n",
       "        text-align: right;\n",
       "    }\n",
       "</style>\n",
       "<table border=\"1\" class=\"dataframe\">\n",
       "  <thead>\n",
       "    <tr style=\"text-align: right;\">\n",
       "      <th></th>\n",
       "      <th>DB</th>\n",
       "      <th>DB_Object_ID</th>\n",
       "      <th>2</th>\n",
       "      <th>3</th>\n",
       "      <th>HPO_ID</th>\n",
       "      <th>5</th>\n",
       "      <th>6</th>\n",
       "      <th>7</th>\n",
       "      <th>8</th>\n",
       "      <th>9</th>\n",
       "      <th>10</th>\n",
       "      <th>11</th>\n",
       "      <th>12</th>\n",
       "      <th>13</th>\n",
       "    </tr>\n",
       "  </thead>\n",
       "  <tbody>\n",
       "    <tr>\n",
       "      <th>0</th>\n",
       "      <td>DECIPHER</td>\n",
       "      <td>1</td>\n",
       "      <td>Wolf-Hirschhorn Syndrome</td>\n",
       "      <td>NaN</td>\n",
       "      <td>HP:0000252</td>\n",
       "      <td>DECIPHER:1</td>\n",
       "      <td>IEA</td>\n",
       "      <td>NaN</td>\n",
       "      <td>NaN</td>\n",
       "      <td>NaN</td>\n",
       "      <td>P</td>\n",
       "      <td>WOLF-HIRSCHHORN SYNDROME</td>\n",
       "      <td>HPO:skoehler</td>\n",
       "      <td>NaN</td>\n",
       "    </tr>\n",
       "    <tr>\n",
       "      <th>1</th>\n",
       "      <td>DECIPHER</td>\n",
       "      <td>1</td>\n",
       "      <td>Wolf-Hirschhorn Syndrome</td>\n",
       "      <td>NaN</td>\n",
       "      <td>HP:0001249</td>\n",
       "      <td>DECIPHER:1</td>\n",
       "      <td>IEA</td>\n",
       "      <td>NaN</td>\n",
       "      <td>NaN</td>\n",
       "      <td>NaN</td>\n",
       "      <td>P</td>\n",
       "      <td>WOLF-HIRSCHHORN SYNDROME</td>\n",
       "      <td>HPO:skoehler</td>\n",
       "      <td>NaN</td>\n",
       "    </tr>\n",
       "    <tr>\n",
       "      <th>2</th>\n",
       "      <td>DECIPHER</td>\n",
       "      <td>1</td>\n",
       "      <td>Wolf-Hirschhorn Syndrome</td>\n",
       "      <td>NaN</td>\n",
       "      <td>HP:0001250</td>\n",
       "      <td>DECIPHER:1</td>\n",
       "      <td>IEA</td>\n",
       "      <td>NaN</td>\n",
       "      <td>NaN</td>\n",
       "      <td>NaN</td>\n",
       "      <td>P</td>\n",
       "      <td>WOLF-HIRSCHHORN SYNDROME</td>\n",
       "      <td>HPO:skoehler</td>\n",
       "      <td>NaN</td>\n",
       "    </tr>\n",
       "    <tr>\n",
       "      <th>3</th>\n",
       "      <td>DECIPHER</td>\n",
       "      <td>1</td>\n",
       "      <td>Wolf-Hirschhorn Syndrome</td>\n",
       "      <td>NaN</td>\n",
       "      <td>HP:0001252</td>\n",
       "      <td>DECIPHER:1</td>\n",
       "      <td>IEA</td>\n",
       "      <td>NaN</td>\n",
       "      <td>NaN</td>\n",
       "      <td>NaN</td>\n",
       "      <td>P</td>\n",
       "      <td>WOLF-HIRSCHHORN SYNDROME</td>\n",
       "      <td>HPO:skoehler</td>\n",
       "      <td>NaN</td>\n",
       "    </tr>\n",
       "    <tr>\n",
       "      <th>4</th>\n",
       "      <td>DECIPHER</td>\n",
       "      <td>1</td>\n",
       "      <td>Wolf-Hirschhorn Syndrome</td>\n",
       "      <td>NaN</td>\n",
       "      <td>HP:0001518</td>\n",
       "      <td>DECIPHER:1</td>\n",
       "      <td>IEA</td>\n",
       "      <td>NaN</td>\n",
       "      <td>NaN</td>\n",
       "      <td>NaN</td>\n",
       "      <td>P</td>\n",
       "      <td>WOLF-HIRSCHHORN SYNDROME</td>\n",
       "      <td>HPO:skoehler</td>\n",
       "      <td>NaN</td>\n",
       "    </tr>\n",
       "  </tbody>\n",
       "</table>\n",
       "</div>"
      ],
      "text/plain": [
       "         DB  DB_Object_ID                         2    3      HPO_ID  \\\n",
       "0  DECIPHER             1  Wolf-Hirschhorn Syndrome  NaN  HP:0000252   \n",
       "1  DECIPHER             1  Wolf-Hirschhorn Syndrome  NaN  HP:0001249   \n",
       "2  DECIPHER             1  Wolf-Hirschhorn Syndrome  NaN  HP:0001250   \n",
       "3  DECIPHER             1  Wolf-Hirschhorn Syndrome  NaN  HP:0001252   \n",
       "4  DECIPHER             1  Wolf-Hirschhorn Syndrome  NaN  HP:0001518   \n",
       "\n",
       "            5    6    7    8   9 10                        11            12  \\\n",
       "0  DECIPHER:1  IEA  NaN  NaN NaN  P  WOLF-HIRSCHHORN SYNDROME  HPO:skoehler   \n",
       "1  DECIPHER:1  IEA  NaN  NaN NaN  P  WOLF-HIRSCHHORN SYNDROME  HPO:skoehler   \n",
       "2  DECIPHER:1  IEA  NaN  NaN NaN  P  WOLF-HIRSCHHORN SYNDROME  HPO:skoehler   \n",
       "3  DECIPHER:1  IEA  NaN  NaN NaN  P  WOLF-HIRSCHHORN SYNDROME  HPO:skoehler   \n",
       "4  DECIPHER:1  IEA  NaN  NaN NaN  P  WOLF-HIRSCHHORN SYNDROME  HPO:skoehler   \n",
       "\n",
       "    13  \n",
       "0  NaN  \n",
       "1  NaN  \n",
       "2  NaN  \n",
       "3  NaN  \n",
       "4  NaN  "
      ]
     },
     "execution_count": 12,
     "metadata": {},
     "output_type": "execute_result"
    }
   ],
   "source": [
    "hpoannot_df.head()"
   ]
  },
  {
   "cell_type": "code",
   "execution_count": 8,
   "metadata": {},
   "outputs": [],
   "source": [
    "hpoannot_df.to_csv('data/external/phenotype_annotation_hpoteam.tab', sep='\\t', index=False, header=None)"
   ]
  },
  {
   "cell_type": "code",
   "execution_count": 11,
   "metadata": {},
   "outputs": [],
   "source": [
    "hpoannot_df.rename(columns={0:'DB',1:'DB_Object_ID',4:'HPO_ID'}, inplace=True)"
   ]
  },
  {
   "cell_type": "code",
   "execution_count": 14,
   "metadata": {},
   "outputs": [],
   "source": [
    "hpoannot_df = hpoannot_df[['DB','DB_Object_ID','HPO_ID']]"
   ]
  },
  {
   "cell_type": "code",
   "execution_count": 17,
   "metadata": {},
   "outputs": [],
   "source": [
    "hpoannot_df= hpoannot_df[hpoannot_df.DB =='OMIM']"
   ]
  },
  {
   "cell_type": "code",
   "execution_count": 18,
   "metadata": {},
   "outputs": [
    {
     "data": {
      "text/html": [
       "<div>\n",
       "<style scoped>\n",
       "    .dataframe tbody tr th:only-of-type {\n",
       "        vertical-align: middle;\n",
       "    }\n",
       "\n",
       "    .dataframe tbody tr th {\n",
       "        vertical-align: top;\n",
       "    }\n",
       "\n",
       "    .dataframe thead th {\n",
       "        text-align: right;\n",
       "    }\n",
       "</style>\n",
       "<table border=\"1\" class=\"dataframe\">\n",
       "  <thead>\n",
       "    <tr style=\"text-align: right;\">\n",
       "      <th></th>\n",
       "      <th>DB</th>\n",
       "      <th>DB_Object_ID</th>\n",
       "      <th>HPO_ID</th>\n",
       "    </tr>\n",
       "  </thead>\n",
       "  <tbody>\n",
       "    <tr>\n",
       "      <th>285</th>\n",
       "      <td>OMIM</td>\n",
       "      <td>100050</td>\n",
       "      <td>HP:0000028</td>\n",
       "    </tr>\n",
       "    <tr>\n",
       "      <th>286</th>\n",
       "      <td>OMIM</td>\n",
       "      <td>100050</td>\n",
       "      <td>HP:0000049</td>\n",
       "    </tr>\n",
       "    <tr>\n",
       "      <th>287</th>\n",
       "      <td>OMIM</td>\n",
       "      <td>100050</td>\n",
       "      <td>HP:0000175</td>\n",
       "    </tr>\n",
       "    <tr>\n",
       "      <th>288</th>\n",
       "      <td>OMIM</td>\n",
       "      <td>100050</td>\n",
       "      <td>HP:0000202</td>\n",
       "    </tr>\n",
       "    <tr>\n",
       "      <th>289</th>\n",
       "      <td>OMIM</td>\n",
       "      <td>100050</td>\n",
       "      <td>HP:0000204</td>\n",
       "    </tr>\n",
       "  </tbody>\n",
       "</table>\n",
       "</div>"
      ],
      "text/plain": [
       "       DB  DB_Object_ID      HPO_ID\n",
       "285  OMIM        100050  HP:0000028\n",
       "286  OMIM        100050  HP:0000049\n",
       "287  OMIM        100050  HP:0000175\n",
       "288  OMIM        100050  HP:0000202\n",
       "289  OMIM        100050  HP:0000204"
      ]
     },
     "execution_count": 18,
     "metadata": {},
     "output_type": "execute_result"
    }
   ],
   "source": [
    "hpoannot_df.head()"
   ]
  },
  {
   "cell_type": "code",
   "execution_count": 23,
   "metadata": {},
   "outputs": [],
   "source": [
    "hpoannot_df.drop(columns=['DB'], inplace=True)"
   ]
  },
  {
   "cell_type": "code",
   "execution_count": 24,
   "metadata": {},
   "outputs": [],
   "source": [
    "from rdflib import Graph, URIRef, Literal, RDF, ConjunctiveGraph\n",
    "def to_rdf(g, df, column_types, row_uri):\n",
    "    \"\"\"\n",
    "    Parameters\n",
    "    ----------\n",
    "    g : input rdflib.Graph  \n",
    "    df: DataFrame to be converted into RDF Graph\n",
    "    column_types: dictonary of column and its type, type can be URI or Literal\n",
    "    row_uri: rdf:type value for row index, should be URI\n",
    "    Returns\n",
    "    -------\n",
    "    g: rdflib.Graph generated from DataFrame object\n",
    "    \"\"\"\n",
    "    \n",
    "    for (index, series) in df.iterrows():\n",
    "        g.add((URIRef(index), RDF.type, URIRef(row_uri)) )\n",
    "        for (column, value) in series.iteritems():\n",
    "            if column_types[column] == 'URI':\n",
    "                g.add((URIRef(index), URIRef(column), URIRef(value)))\n",
    "            else:\n",
    "                g.add((URIRef(index), URIRef(column), Literal(value)))\n",
    "                \n",
    "    return g"
   ]
  },
  {
   "cell_type": "code",
   "execution_count": 25,
   "metadata": {},
   "outputs": [],
   "source": [
    "hpoannot_df['DB_Object_ID'] = hpoannot_df['DB_Object_ID'].map(lambda x: 'http://bio2rdf.org/omim:'+str(x))"
   ]
  },
  {
   "cell_type": "code",
   "execution_count": 28,
   "metadata": {},
   "outputs": [],
   "source": [
    "hpoannot_df['HPO_ID']= hpoannot_df['HPO_ID'].map(lambda x: 'http://bio2rdf.org/hpo:'+str(x[3:]))"
   ]
  },
  {
   "cell_type": "code",
   "execution_count": 29,
   "metadata": {},
   "outputs": [],
   "source": [
    "hpoannot_df = hpoannot_df.set_index('DB_Object_ID', drop=True)"
   ]
  },
  {
   "cell_type": "code",
   "execution_count": 30,
   "metadata": {},
   "outputs": [
    {
     "data": {
      "text/html": [
       "<div>\n",
       "<style scoped>\n",
       "    .dataframe tbody tr th:only-of-type {\n",
       "        vertical-align: middle;\n",
       "    }\n",
       "\n",
       "    .dataframe tbody tr th {\n",
       "        vertical-align: top;\n",
       "    }\n",
       "\n",
       "    .dataframe thead th {\n",
       "        text-align: right;\n",
       "    }\n",
       "</style>\n",
       "<table border=\"1\" class=\"dataframe\">\n",
       "  <thead>\n",
       "    <tr style=\"text-align: right;\">\n",
       "      <th></th>\n",
       "      <th>HPO_ID</th>\n",
       "    </tr>\n",
       "    <tr>\n",
       "      <th>DB_Object_ID</th>\n",
       "      <th></th>\n",
       "    </tr>\n",
       "  </thead>\n",
       "  <tbody>\n",
       "    <tr>\n",
       "      <th>http://bio2rdf.org/omim:100050</th>\n",
       "      <td>http://bio2rdf.org/hpo:0000028</td>\n",
       "    </tr>\n",
       "    <tr>\n",
       "      <th>http://bio2rdf.org/omim:100050</th>\n",
       "      <td>http://bio2rdf.org/hpo:0000049</td>\n",
       "    </tr>\n",
       "    <tr>\n",
       "      <th>http://bio2rdf.org/omim:100050</th>\n",
       "      <td>http://bio2rdf.org/hpo:0000175</td>\n",
       "    </tr>\n",
       "    <tr>\n",
       "      <th>http://bio2rdf.org/omim:100050</th>\n",
       "      <td>http://bio2rdf.org/hpo:0000202</td>\n",
       "    </tr>\n",
       "    <tr>\n",
       "      <th>http://bio2rdf.org/omim:100050</th>\n",
       "      <td>http://bio2rdf.org/hpo:0000204</td>\n",
       "    </tr>\n",
       "  </tbody>\n",
       "</table>\n",
       "</div>"
      ],
      "text/plain": [
       "                                                        HPO_ID\n",
       "DB_Object_ID                                                  \n",
       "http://bio2rdf.org/omim:100050  http://bio2rdf.org/hpo:0000028\n",
       "http://bio2rdf.org/omim:100050  http://bio2rdf.org/hpo:0000049\n",
       "http://bio2rdf.org/omim:100050  http://bio2rdf.org/hpo:0000175\n",
       "http://bio2rdf.org/omim:100050  http://bio2rdf.org/hpo:0000202\n",
       "http://bio2rdf.org/omim:100050  http://bio2rdf.org/hpo:0000204"
      ]
     },
     "execution_count": 30,
     "metadata": {},
     "output_type": "execute_result"
    }
   ],
   "source": [
    "hpoannot_df.head()"
   ]
  },
  {
   "cell_type": "code",
   "execution_count": 31,
   "metadata": {},
   "outputs": [],
   "source": [
    "hpoannot_df.rename(columns={'HPO_ID':'http://semanticscience.org/resource/SIO_000255'},inplace=True)"
   ]
  },
  {
   "cell_type": "code",
   "execution_count": 33,
   "metadata": {},
   "outputs": [],
   "source": [
    "column_types ={'http://semanticscience.org/resource/SIO_000255':'URI'}\n",
    "graphURI = URIRef('http://fairworkflows.org/openpredict_resource:fairworkflows.dataset.openpredict.hpoannot.R1')\n",
    "g =  ConjunctiveGraph(identifier = graphURI)     \n",
    "\n",
    "g=  to_rdf(g, hpoannot_df, column_types, 'http://bio2rdf.org/omim_vocabulary:Phenotype' )"
   ]
  },
  {
   "cell_type": "code",
   "execution_count": 34,
   "metadata": {},
   "outputs": [],
   "source": [
    "from rdflib import Namespace\n",
    "import datetime\n",
    "DC = Namespace(\"http://purl.org/dc/terms/\")\n",
    "def addProvanace(g, graphURI):\n",
    "    now = datetime.datetime.now()\n",
    "    \n",
    "    datasetURI= URIRef('https://github.com/fair-workflows/openpredict/data/rdf/hpo_annotations.nq')\n",
    "    g.add((graphURI, RDF.type, DC.Dataset))\n",
    "    g.add((graphURI, URIRef('http://www.w3.org/ns/dcat#distribution'), datasetURI))\n",
    "    sourcedatasetURI =  URIRef('https://media.nature.com/full/nature-assets/srep/2016/161017/srep35241/extref/srep35241-s3.txt')\n",
    "    \n",
    "    g.add((datasetURI, DC['title'], Literal('RDF Version of OMIM HPO Annotations')))\n",
    "    g.add((datasetURI, DC['format'], Literal('application/n-quads')))\n",
    "    g.add((datasetURI, DC['created'], Literal(now.strftime(\"%Y-%m-%d %H:%M:%S\"))))\n",
    "    g.add((datasetURI, DC['creator'], Literal('https://github.com/fair-workflows/openpredict/OMIMHpoAnnotations.ipynb')))\n",
    "\n",
    "    g.add((datasetURI, DC['homepage'], URIRef('https://github.com/fair-workflows/openpredict/')))\n",
    "    g.add((datasetURI, DC['license'], URIRef('http://creativecommons.org/licenses/by/3.0/')))\n",
    "    g.add((datasetURI, DC['rights'], Literal('use-share-modify')))\n",
    "    g.add((datasetURI, DC['rights'], Literal('by-attribution')))\n",
    "    g.add((datasetURI, DC['rights'], Literal('restricted-by-source-license')))\n",
    "\n",
    "    g.add((datasetURI, DC['source'], sourcedatasetURI))\n",
    "        \n",
    "    g.add((sourcedatasetURI, DC['title'], Literal('Phenote-annotated by HPO-team (http://phenotype_annotation_hpoteam.tab)')))\n",
    "    g.add((sourcedatasetURI, RDF['type'], URIRef('http://www.w3.org/ns/dcat#Distribution')))\n",
    "    g.add((sourcedatasetURI, DC['homepage'], URIRef('https://hpo.jax.org/app/download/annotation')))\n",
    "    g.add((sourcedatasetURI, URIRef('http://purl.org/pav/retrievedOn'), Literal(now.strftime(\"%Y-%m-%d %H:%M:%S\"))))\n",
    "    g.add((sourcedatasetURI, DC['format'], Literal('text/tsv')))\n",
    "    g.add((sourcedatasetURI, DC['rights'], URIRef('https://hpo.jax.org/app/license')))\n",
    "    g.add((sourcedatasetURI, DC['publisher'], Literal('https://hpo.jax.org/app/download/annotation')))\n",
    "    g.add((sourcedatasetURI, DC['rights'], Literal('use')))\n",
    "    g.add((sourcedatasetURI, DC['rights'], Literal('citation-required')))\n",
    "    \n",
    "    return g"
   ]
  },
  {
   "cell_type": "code",
   "execution_count": 35,
   "metadata": {},
   "outputs": [],
   "source": [
    "g=addProvanace(g, graphURI)"
   ]
  },
  {
   "cell_type": "code",
   "execution_count": 36,
   "metadata": {},
   "outputs": [],
   "source": [
    "g.serialize('data/rdf/hpo_annotations.nq', format='nquads')"
   ]
  },
  {
   "cell_type": "code",
   "execution_count": null,
   "metadata": {},
   "outputs": [],
   "source": []
  }
 ],
 "metadata": {
  "kernelspec": {
   "display_name": "Python 3",
   "language": "python",
   "name": "python3"
  },
  "language_info": {
   "codemirror_mode": {
    "name": "ipython",
    "version": 3
   },
   "file_extension": ".py",
   "mimetype": "text/x-python",
   "name": "python",
   "nbconvert_exporter": "python",
   "pygments_lexer": "ipython3",
   "version": "3.7.3"
  }
 },
 "nbformat": 4,
 "nbformat_minor": 2
}
