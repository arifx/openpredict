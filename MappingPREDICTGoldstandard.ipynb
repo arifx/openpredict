{
 "cells": [
  {
   "cell_type": "code",
   "execution_count": 2,
   "metadata": {
    "collapsed": true
   },
   "outputs": [],
   "source": [
    "import pandas as pd\n",
    "from csv import reader "
   ]
  },
  {
   "cell_type": "code",
   "execution_count": 2,
   "metadata": {},
   "outputs": [
    {
     "data": {
      "text/html": [
       "<div>\n",
       "<style scoped>\n",
       "    .dataframe tbody tr th:only-of-type {\n",
       "        vertical-align: middle;\n",
       "    }\n",
       "\n",
       "    .dataframe tbody tr th {\n",
       "        vertical-align: top;\n",
       "    }\n",
       "\n",
       "    .dataframe thead th {\n",
       "        text-align: right;\n",
       "    }\n",
       "</style>\n",
       "<table border=\"1\" class=\"dataframe\">\n",
       "  <thead>\n",
       "    <tr style=\"text-align: right;\">\n",
       "      <th></th>\n",
       "      <th>OMIM ID</th>\n",
       "      <th>OMIM disease name</th>\n",
       "      <th>UMLS concept ID</th>\n",
       "      <th>UMLS concept name</th>\n",
       "    </tr>\n",
       "  </thead>\n",
       "  <tbody>\n",
       "    <tr>\n",
       "      <th>0</th>\n",
       "      <td>102100</td>\n",
       "      <td>Acromegaloid Changes, Cutis Verticis Gyrata, A...</td>\n",
       "      <td>C1868756</td>\n",
       "      <td>Corneal leukoma</td>\n",
       "    </tr>\n",
       "    <tr>\n",
       "      <th>1</th>\n",
       "      <td>102100</td>\n",
       "      <td>Acromegaloid Changes, Cutis Verticis Gyrata, A...</td>\n",
       "      <td>C0263417</td>\n",
       "      <td>Cutis verticis gyrata</td>\n",
       "    </tr>\n",
       "    <tr>\n",
       "      <th>2</th>\n",
       "      <td>102300</td>\n",
       "      <td>Restless Legs Syndrome, Susceptibility To, 1; ...</td>\n",
       "      <td>C0035258</td>\n",
       "      <td>Restless Legs Syndrome</td>\n",
       "    </tr>\n",
       "    <tr>\n",
       "      <th>3</th>\n",
       "      <td>102300</td>\n",
       "      <td>Restless Legs Syndrome, Susceptibility To, 1; ...</td>\n",
       "      <td>C1876177</td>\n",
       "      <td>RLS1 (Ekbom Syndrome)</td>\n",
       "    </tr>\n",
       "    <tr>\n",
       "      <th>4</th>\n",
       "      <td>102400</td>\n",
       "      <td>Acroosteolysis</td>\n",
       "      <td>C0917990</td>\n",
       "      <td>Acroosteolysis (Acro-Osteolysis)</td>\n",
       "    </tr>\n",
       "  </tbody>\n",
       "</table>\n",
       "</div>"
      ],
      "text/plain": [
       "   OMIM ID                                  OMIM disease name UMLS concept ID  \\\n",
       "0   102100  Acromegaloid Changes, Cutis Verticis Gyrata, A...        C1868756   \n",
       "1   102100  Acromegaloid Changes, Cutis Verticis Gyrata, A...        C0263417   \n",
       "2   102300  Restless Legs Syndrome, Susceptibility To, 1; ...        C0035258   \n",
       "3   102300  Restless Legs Syndrome, Susceptibility To, 1; ...        C1876177   \n",
       "4   102400                                     Acroosteolysis        C0917990   \n",
       "\n",
       "                  UMLS concept name  \n",
       "0                   Corneal leukoma  \n",
       "1             Cutis verticis gyrata  \n",
       "2            Restless Legs Syndrome  \n",
       "3             RLS1 (Ekbom Syndrome)  \n",
       "4  Acroosteolysis (Acro-Osteolysis)  "
      ]
     },
     "execution_count": 2,
     "metadata": {},
     "output_type": "execute_result"
    }
   ],
   "source": [
    "mapping_df = pd.read_excel('https://www.ncbi.nlm.nih.gov/pmc/articles/PMC3159979/bin/msb201126-s4.xls')\n",
    "mapping_df.head()"
   ]
  },
  {
   "cell_type": "code",
   "execution_count": 3,
   "metadata": {},
   "outputs": [],
   "source": [
    "mapping_df['OMIM disease name'].replace({'Neuropathy, Hereditary Sensory And Autonomic, Type I, With Cough And':\n",
    "                                         'Neuropathy, Hereditary Sensory And Autonomic, Type I, With Cough And Gastroesophageal Reflux'}, inplace=True)"
   ]
  },
  {
   "cell_type": "code",
   "execution_count": 4,
   "metadata": {},
   "outputs": [
    {
     "data": {
      "text/html": [
       "<div>\n",
       "<style scoped>\n",
       "    .dataframe tbody tr th:only-of-type {\n",
       "        vertical-align: middle;\n",
       "    }\n",
       "\n",
       "    .dataframe tbody tr th {\n",
       "        vertical-align: top;\n",
       "    }\n",
       "\n",
       "    .dataframe thead th {\n",
       "        text-align: right;\n",
       "    }\n",
       "</style>\n",
       "<table border=\"1\" class=\"dataframe\">\n",
       "  <thead>\n",
       "    <tr style=\"text-align: right;\">\n",
       "      <th></th>\n",
       "      <th>Drug name</th>\n",
       "      <th>Disease name</th>\n",
       "    </tr>\n",
       "  </thead>\n",
       "  <tbody>\n",
       "    <tr>\n",
       "      <th>0</th>\n",
       "      <td>Acamprosate</td>\n",
       "      <td>Alcohol Dependence</td>\n",
       "    </tr>\n",
       "    <tr>\n",
       "      <th>1</th>\n",
       "      <td>Acarbose</td>\n",
       "      <td>Diabetes Mellitus, Noninsulin-Dependent; Niddm</td>\n",
       "    </tr>\n",
       "    <tr>\n",
       "      <th>2</th>\n",
       "      <td>Acarbose</td>\n",
       "      <td>Maturity-Onset Diabetes Of The Young, Type 1; ...</td>\n",
       "    </tr>\n",
       "    <tr>\n",
       "      <th>3</th>\n",
       "      <td>Acarbose</td>\n",
       "      <td>Maturity-Onset Diabetes Of The Young, Type 2; ...</td>\n",
       "    </tr>\n",
       "    <tr>\n",
       "      <th>4</th>\n",
       "      <td>Acarbose</td>\n",
       "      <td>Maturity-Onset Diabetes Of The Young, Type 3; ...</td>\n",
       "    </tr>\n",
       "  </tbody>\n",
       "</table>\n",
       "</div>"
      ],
      "text/plain": [
       "     Drug name                                       Disease name\n",
       "0  Acamprosate                                 Alcohol Dependence\n",
       "1     Acarbose     Diabetes Mellitus, Noninsulin-Dependent; Niddm\n",
       "2     Acarbose  Maturity-Onset Diabetes Of The Young, Type 1; ...\n",
       "3     Acarbose  Maturity-Onset Diabetes Of The Young, Type 2; ...\n",
       "4     Acarbose  Maturity-Onset Diabetes Of The Young, Type 3; ..."
      ]
     },
     "execution_count": 4,
     "metadata": {},
     "output_type": "execute_result"
    }
   ],
   "source": [
    "goldstd_df = pd.read_excel('https://www.ncbi.nlm.nih.gov/pmc/articles/PMC3159979/bin/msb201126-s1.xls')\n",
    "goldstd_df.head()"
   ]
  },
  {
   "cell_type": "code",
   "execution_count": 5,
   "metadata": {},
   "outputs": [],
   "source": [
    "goldstd_df['Drug name'].replace({'Divalproex Sodium':'Valproic Acid',\n",
    "                                 'Bismuth':'Bismuth subsalicylate',\n",
    "                                'Clobetasol':'Clobetasol propionate',\n",
    "                               'Guanadrel Sulfate':'Guanadrel',\n",
    "                                 'Marinol':'Dronabinol',\n",
    "                               'Medroxyprogesterone':'Medroxyprogesterone acetate',\n",
    "                                'Megestrol':'Megestrol acetate',\n",
    "                                'Propoxyphene':'Dextropropoxyphene',\n",
    "                                 'Salicyclic Acid':'Salicylic acid',\n",
    "                                'Ipratropium':'Ipratropiumbromid',\n",
    "                                'Adenosine Monophosphate':'Adenosine monophosphate',\n",
    "                                'Arsenic Trioxide':'Arsenic trioxide',\n",
    "                                'Ethacrynic Acid':'Ethacrynic acid',\n",
    "                                'Fondaparinux Sodium':'Fondaparinux sodium',\n",
    "                                 'Meclofenamic Acid':'Meclofenamic acid',\n",
    "                                'Methyl Aminolevulinate':'Methyl aminolevulinate'},inplace=True)"
   ]
  },
  {
   "cell_type": "code",
   "execution_count": 6,
   "metadata": {},
   "outputs": [],
   "source": [
    "merged_df = goldstd_df.merge(mapping_df, left_on='Disease name', right_on='OMIM disease name')"
   ]
  },
  {
   "cell_type": "code",
   "execution_count": 7,
   "metadata": {},
   "outputs": [
    {
     "data": {
      "text/html": [
       "<div>\n",
       "<style scoped>\n",
       "    .dataframe tbody tr th:only-of-type {\n",
       "        vertical-align: middle;\n",
       "    }\n",
       "\n",
       "    .dataframe tbody tr th {\n",
       "        vertical-align: top;\n",
       "    }\n",
       "\n",
       "    .dataframe thead th {\n",
       "        text-align: right;\n",
       "    }\n",
       "</style>\n",
       "<table border=\"1\" class=\"dataframe\">\n",
       "  <thead>\n",
       "    <tr style=\"text-align: right;\">\n",
       "      <th></th>\n",
       "      <th>Drug name</th>\n",
       "      <th>Disease name</th>\n",
       "      <th>OMIM ID</th>\n",
       "      <th>OMIM disease name</th>\n",
       "      <th>UMLS concept ID</th>\n",
       "      <th>UMLS concept name</th>\n",
       "    </tr>\n",
       "  </thead>\n",
       "  <tbody>\n",
       "    <tr>\n",
       "      <th>0</th>\n",
       "      <td>Acamprosate</td>\n",
       "      <td>Alcohol Dependence</td>\n",
       "      <td>103780</td>\n",
       "      <td>Alcohol Dependence</td>\n",
       "      <td>C0001973</td>\n",
       "      <td>Alcohol Dependence (Alcoholic Intoxication, Ch...</td>\n",
       "    </tr>\n",
       "    <tr>\n",
       "      <th>1</th>\n",
       "      <td>Chlordiazepoxide</td>\n",
       "      <td>Alcohol Dependence</td>\n",
       "      <td>103780</td>\n",
       "      <td>Alcohol Dependence</td>\n",
       "      <td>C0001973</td>\n",
       "      <td>Alcohol Dependence (Alcoholic Intoxication, Ch...</td>\n",
       "    </tr>\n",
       "    <tr>\n",
       "      <th>2</th>\n",
       "      <td>Citalopram</td>\n",
       "      <td>Alcohol Dependence</td>\n",
       "      <td>103780</td>\n",
       "      <td>Alcohol Dependence</td>\n",
       "      <td>C0001973</td>\n",
       "      <td>Alcohol Dependence (Alcoholic Intoxication, Ch...</td>\n",
       "    </tr>\n",
       "    <tr>\n",
       "      <th>3</th>\n",
       "      <td>Disulfiram</td>\n",
       "      <td>Alcohol Dependence</td>\n",
       "      <td>103780</td>\n",
       "      <td>Alcohol Dependence</td>\n",
       "      <td>C0001973</td>\n",
       "      <td>Alcohol Dependence (Alcoholic Intoxication, Ch...</td>\n",
       "    </tr>\n",
       "    <tr>\n",
       "      <th>4</th>\n",
       "      <td>Naltrexone</td>\n",
       "      <td>Alcohol Dependence</td>\n",
       "      <td>103780</td>\n",
       "      <td>Alcohol Dependence</td>\n",
       "      <td>C0001973</td>\n",
       "      <td>Alcohol Dependence (Alcoholic Intoxication, Ch...</td>\n",
       "    </tr>\n",
       "  </tbody>\n",
       "</table>\n",
       "</div>"
      ],
      "text/plain": [
       "          Drug name        Disease name  OMIM ID   OMIM disease name  \\\n",
       "0       Acamprosate  Alcohol Dependence   103780  Alcohol Dependence   \n",
       "1  Chlordiazepoxide  Alcohol Dependence   103780  Alcohol Dependence   \n",
       "2        Citalopram  Alcohol Dependence   103780  Alcohol Dependence   \n",
       "3        Disulfiram  Alcohol Dependence   103780  Alcohol Dependence   \n",
       "4        Naltrexone  Alcohol Dependence   103780  Alcohol Dependence   \n",
       "\n",
       "  UMLS concept ID                                  UMLS concept name  \n",
       "0        C0001973  Alcohol Dependence (Alcoholic Intoxication, Ch...  \n",
       "1        C0001973  Alcohol Dependence (Alcoholic Intoxication, Ch...  \n",
       "2        C0001973  Alcohol Dependence (Alcoholic Intoxication, Ch...  \n",
       "3        C0001973  Alcohol Dependence (Alcoholic Intoxication, Ch...  \n",
       "4        C0001973  Alcohol Dependence (Alcoholic Intoxication, Ch...  "
      ]
     },
     "execution_count": 7,
     "metadata": {},
     "output_type": "execute_result"
    }
   ],
   "source": [
    "merged_df.head()"
   ]
  },
  {
   "cell_type": "code",
   "execution_count": 8,
   "metadata": {},
   "outputs": [
    {
     "data": {
      "text/html": [
       "<div>\n",
       "<style scoped>\n",
       "    .dataframe tbody tr th:only-of-type {\n",
       "        vertical-align: middle;\n",
       "    }\n",
       "\n",
       "    .dataframe tbody tr th {\n",
       "        vertical-align: top;\n",
       "    }\n",
       "\n",
       "    .dataframe thead th {\n",
       "        text-align: right;\n",
       "    }\n",
       "</style>\n",
       "<table border=\"1\" class=\"dataframe\">\n",
       "  <thead>\n",
       "    <tr style=\"text-align: right;\">\n",
       "      <th></th>\n",
       "      <th>Drug name</th>\n",
       "      <th>Disease name</th>\n",
       "      <th>OMIM ID</th>\n",
       "      <th>OMIM disease name</th>\n",
       "      <th>UMLS concept ID</th>\n",
       "      <th>UMLS concept name</th>\n",
       "    </tr>\n",
       "  </thead>\n",
       "  <tbody>\n",
       "    <tr>\n",
       "      <th>0</th>\n",
       "      <td>Acamprosate</td>\n",
       "      <td>Alcohol Dependence</td>\n",
       "      <td>103780</td>\n",
       "      <td>Alcohol Dependence</td>\n",
       "      <td>C0001973</td>\n",
       "      <td>Alcohol Dependence (Alcoholic Intoxication, Ch...</td>\n",
       "    </tr>\n",
       "    <tr>\n",
       "      <th>1</th>\n",
       "      <td>Chlordiazepoxide</td>\n",
       "      <td>Alcohol Dependence</td>\n",
       "      <td>103780</td>\n",
       "      <td>Alcohol Dependence</td>\n",
       "      <td>C0001973</td>\n",
       "      <td>Alcohol Dependence (Alcoholic Intoxication, Ch...</td>\n",
       "    </tr>\n",
       "    <tr>\n",
       "      <th>2</th>\n",
       "      <td>Citalopram</td>\n",
       "      <td>Alcohol Dependence</td>\n",
       "      <td>103780</td>\n",
       "      <td>Alcohol Dependence</td>\n",
       "      <td>C0001973</td>\n",
       "      <td>Alcohol Dependence (Alcoholic Intoxication, Ch...</td>\n",
       "    </tr>\n",
       "    <tr>\n",
       "      <th>3</th>\n",
       "      <td>Disulfiram</td>\n",
       "      <td>Alcohol Dependence</td>\n",
       "      <td>103780</td>\n",
       "      <td>Alcohol Dependence</td>\n",
       "      <td>C0001973</td>\n",
       "      <td>Alcohol Dependence (Alcoholic Intoxication, Ch...</td>\n",
       "    </tr>\n",
       "    <tr>\n",
       "      <th>4</th>\n",
       "      <td>Naltrexone</td>\n",
       "      <td>Alcohol Dependence</td>\n",
       "      <td>103780</td>\n",
       "      <td>Alcohol Dependence</td>\n",
       "      <td>C0001973</td>\n",
       "      <td>Alcohol Dependence (Alcoholic Intoxication, Ch...</td>\n",
       "    </tr>\n",
       "  </tbody>\n",
       "</table>\n",
       "</div>"
      ],
      "text/plain": [
       "          Drug name        Disease name  OMIM ID   OMIM disease name  \\\n",
       "0       Acamprosate  Alcohol Dependence   103780  Alcohol Dependence   \n",
       "1  Chlordiazepoxide  Alcohol Dependence   103780  Alcohol Dependence   \n",
       "2        Citalopram  Alcohol Dependence   103780  Alcohol Dependence   \n",
       "3        Disulfiram  Alcohol Dependence   103780  Alcohol Dependence   \n",
       "4        Naltrexone  Alcohol Dependence   103780  Alcohol Dependence   \n",
       "\n",
       "  UMLS concept ID                                  UMLS concept name  \n",
       "0        C0001973  Alcohol Dependence (Alcoholic Intoxication, Ch...  \n",
       "1        C0001973  Alcohol Dependence (Alcoholic Intoxication, Ch...  \n",
       "2        C0001973  Alcohol Dependence (Alcoholic Intoxication, Ch...  \n",
       "3        C0001973  Alcohol Dependence (Alcoholic Intoxication, Ch...  \n",
       "4        C0001973  Alcohol Dependence (Alcoholic Intoxication, Ch...  "
      ]
     },
     "execution_count": 8,
     "metadata": {},
     "output_type": "execute_result"
    }
   ],
   "source": [
    "merged_df.head()"
   ]
  },
  {
   "cell_type": "code",
   "execution_count": 9,
   "metadata": {},
   "outputs": [
    {
     "data": {
      "text/html": [
       "<div>\n",
       "<style scoped>\n",
       "    .dataframe tbody tr th:only-of-type {\n",
       "        vertical-align: middle;\n",
       "    }\n",
       "\n",
       "    .dataframe tbody tr th {\n",
       "        vertical-align: top;\n",
       "    }\n",
       "\n",
       "    .dataframe thead th {\n",
       "        text-align: right;\n",
       "    }\n",
       "</style>\n",
       "<table border=\"1\" class=\"dataframe\">\n",
       "  <thead>\n",
       "    <tr style=\"text-align: right;\">\n",
       "      <th></th>\n",
       "      <th>?drugid</th>\n",
       "      <th>?name</th>\n",
       "    </tr>\n",
       "  </thead>\n",
       "  <tbody>\n",
       "    <tr>\n",
       "      <th>0</th>\n",
       "      <td>DB00001</td>\n",
       "      <td>Hirudin variant-1@en</td>\n",
       "    </tr>\n",
       "    <tr>\n",
       "      <th>1</th>\n",
       "      <td>DB00002</td>\n",
       "      <td>Anti EGFR@en</td>\n",
       "    </tr>\n",
       "    <tr>\n",
       "      <th>2</th>\n",
       "      <td>DB00002</td>\n",
       "      <td>IMC-C225@en</td>\n",
       "    </tr>\n",
       "    <tr>\n",
       "      <th>3</th>\n",
       "      <td>DB00003</td>\n",
       "      <td>Deoxyribonuclease I@en</td>\n",
       "    </tr>\n",
       "    <tr>\n",
       "      <th>4</th>\n",
       "      <td>DB00003</td>\n",
       "      <td>Deoxyribonuclease-1 precursor@en</td>\n",
       "    </tr>\n",
       "  </tbody>\n",
       "</table>\n",
       "</div>"
      ],
      "text/plain": [
       "   ?drugid                             ?name\n",
       "0  DB00001              Hirudin variant-1@en\n",
       "1  DB00002                      Anti EGFR@en\n",
       "2  DB00002                       IMC-C225@en\n",
       "3  DB00003            Deoxyribonuclease I@en\n",
       "4  DB00003  Deoxyribonuclease-1 precursor@en"
      ]
     },
     "execution_count": 9,
     "metadata": {},
     "output_type": "execute_result"
    }
   ],
   "source": [
    "drug_synonym_df = pd.read_csv('data/input/drugbank-drug-synonym.tab', sep='\\t')\n",
    "drug_synonym_df.head()"
   ]
  },
  {
   "cell_type": "code",
   "execution_count": 10,
   "metadata": {},
   "outputs": [],
   "source": [
    "drug_synonym_df.rename(columns={'?drugid':'drugid','?name':'name'},inplace=True)"
   ]
  },
  {
   "cell_type": "code",
   "execution_count": 11,
   "metadata": {},
   "outputs": [],
   "source": [
    "drug_synonym_df.name =drug_synonym_df.name.map(lambda x: x[:-3])"
   ]
  },
  {
   "cell_type": "code",
   "execution_count": 12,
   "metadata": {},
   "outputs": [
    {
     "data": {
      "text/html": [
       "<div>\n",
       "<style scoped>\n",
       "    .dataframe tbody tr th:only-of-type {\n",
       "        vertical-align: middle;\n",
       "    }\n",
       "\n",
       "    .dataframe tbody tr th {\n",
       "        vertical-align: top;\n",
       "    }\n",
       "\n",
       "    .dataframe thead th {\n",
       "        text-align: right;\n",
       "    }\n",
       "</style>\n",
       "<table border=\"1\" class=\"dataframe\">\n",
       "  <thead>\n",
       "    <tr style=\"text-align: right;\">\n",
       "      <th></th>\n",
       "      <th>drugid</th>\n",
       "      <th>name</th>\n",
       "    </tr>\n",
       "  </thead>\n",
       "  <tbody>\n",
       "    <tr>\n",
       "      <th>0</th>\n",
       "      <td>DB00001</td>\n",
       "      <td>Hirudin variant-1</td>\n",
       "    </tr>\n",
       "    <tr>\n",
       "      <th>1</th>\n",
       "      <td>DB00002</td>\n",
       "      <td>Anti EGFR</td>\n",
       "    </tr>\n",
       "    <tr>\n",
       "      <th>2</th>\n",
       "      <td>DB00002</td>\n",
       "      <td>IMC-C225</td>\n",
       "    </tr>\n",
       "    <tr>\n",
       "      <th>3</th>\n",
       "      <td>DB00003</td>\n",
       "      <td>Deoxyribonuclease I</td>\n",
       "    </tr>\n",
       "    <tr>\n",
       "      <th>4</th>\n",
       "      <td>DB00003</td>\n",
       "      <td>Deoxyribonuclease-1 precursor</td>\n",
       "    </tr>\n",
       "  </tbody>\n",
       "</table>\n",
       "</div>"
      ],
      "text/plain": [
       "    drugid                           name\n",
       "0  DB00001              Hirudin variant-1\n",
       "1  DB00002                      Anti EGFR\n",
       "2  DB00002                       IMC-C225\n",
       "3  DB00003            Deoxyribonuclease I\n",
       "4  DB00003  Deoxyribonuclease-1 precursor"
      ]
     },
     "execution_count": 12,
     "metadata": {},
     "output_type": "execute_result"
    }
   ],
   "source": [
    "drug_synonym_df.head()"
   ]
  },
  {
   "cell_type": "code",
   "execution_count": 13,
   "metadata": {},
   "outputs": [],
   "source": [
    "merged_df = merged_df.merge(drug_synonym_df, left_on='Drug name', right_on='name')"
   ]
  },
  {
   "cell_type": "code",
   "execution_count": 14,
   "metadata": {},
   "outputs": [
    {
     "data": {
      "text/plain": [
       "1933"
      ]
     },
     "execution_count": 14,
     "metadata": {},
     "output_type": "execute_result"
    }
   ],
   "source": [
    "len(merged_df[['drugid','OMIM ID']].drop_duplicates())"
   ]
  },
  {
   "cell_type": "code",
   "execution_count": 15,
   "metadata": {},
   "outputs": [],
   "source": [
    "from rdflib import Graph, URIRef, Literal, RDF, ConjunctiveGraph\n",
    "def to_rdf(g, df, column_types, row_uri):\n",
    "    \"\"\"\n",
    "    Parameters\n",
    "    ----------\n",
    "    g : input rdflib.Graph  \n",
    "    df: DataFrame to be converted into RDF Graph\n",
    "    column_types: dictonary of column and its type, type can be URI or Literal\n",
    "    row_uri: rdf:type value for row index, should be URI\n",
    "    Returns\n",
    "    -------\n",
    "    g: rdflib.Graph generated from DataFrame object\n",
    "    \"\"\"\n",
    "    \n",
    "    for (index, series) in df.iterrows():\n",
    "        g.add((URIRef(index), RDF.type, URIRef(row_uri)) )\n",
    "        for (column, value) in series.iteritems():\n",
    "            if column_types[column] == 'URI':\n",
    "                g.add((URIRef(index), URIRef(column), URIRef(value)))\n",
    "            else:\n",
    "                g.add((URIRef(index), URIRef(column), Literal(value)))\n",
    "                \n",
    "    return g"
   ]
  },
  {
   "cell_type": "code",
   "execution_count": 16,
   "metadata": {},
   "outputs": [],
   "source": [
    "gold_std_mapped_df = merged_df[['drugid','OMIM ID']].drop_duplicates()"
   ]
  },
  {
   "cell_type": "code",
   "execution_count": 17,
   "metadata": {},
   "outputs": [],
   "source": [
    "gold_std_mapped_df['drugid'] = gold_std_mapped_df['drugid'].map(lambda x: 'http://bio2rdf.org/drugbank:'+str(x))"
   ]
  },
  {
   "cell_type": "code",
   "execution_count": 18,
   "metadata": {},
   "outputs": [],
   "source": [
    "gold_std_mapped_df['OMIM ID'] = gold_std_mapped_df['OMIM ID'].map(lambda x: 'http://bio2rdf.org/omim:'+str(x))"
   ]
  },
  {
   "cell_type": "code",
   "execution_count": 19,
   "metadata": {},
   "outputs": [],
   "source": [
    "gold_std_mapped_df.rename(columns={'OMIM ID':'http://bio2rdf.org/openpredict_vocabulary:indication'},inplace=True)"
   ]
  },
  {
   "cell_type": "code",
   "execution_count": 20,
   "metadata": {},
   "outputs": [],
   "source": [
    "gold_std_mapped_df= gold_std_mapped_df.set_index('drugid', drop=True)"
   ]
  },
  {
   "cell_type": "code",
   "execution_count": 21,
   "metadata": {},
   "outputs": [],
   "source": [
    "column_types ={'http://bio2rdf.org/openpredict_vocabulary:indication':'URI'}\n",
    "g =  ConjunctiveGraph(identifier = URIRef('http://bio2rdf.org/openpredict_resource:bio2rdf.dataset.openpredict.R1'))     \n",
    "g=  to_rdf(g, gold_std_mapped_df, column_types, 'http://bio2rdf.org/drugbank:Drug' )"
   ]
  },
  {
   "cell_type": "code",
   "execution_count": 22,
   "metadata": {},
   "outputs": [],
   "source": [
    "from rdflib import Namespace\n",
    "import datetime\n",
    "DC = Namespace(\"http://purl.org/dc/terms/\")\n",
    "def addProvanace(g):\n",
    "    now = datetime.datetime.now()\n",
    "    graphURI = URIRef('http://bio2rdf.org/openpredict_resource:bio2rdf.dataset.openpredict.R1')\n",
    "    datasetURI= URIRef('https://github.com/fair-workflows/openpredict/known_associations/predict-gold-standard-omim.nq')\n",
    "    g.add((graphURI, RDF.type, DC.Dataset))\n",
    "    g.add((graphURI, URIRef('http://www.w3.org/ns/dcat#distribution'), datasetURI))\n",
    "   \n",
    "    \n",
    "    g.add((datasetURI, DC['title'], Literal('RDF version of PREDICT drug indication gold standard')))\n",
    "    g.add((datasetURI, DC['format'], Literal('application/n-quads')))\n",
    "    g.add((datasetURI, DC['created'], Literal(now.strftime(\"%Y-%m-%d %H:%M:%S\"))))\n",
    "    g.add((datasetURI, DC['creator'], Literal('https://github.com/fair-workflows/openpredict/MappingPREDICTGoldstandard.ipynb')))\n",
    "    g.add((datasetURI, DC['source'], URIRef('https://www.ncbi.nlm.nih.gov/pmc/articles/PMC3159979/bin/msb201126-s1.xls')))\n",
    "    g.add((datasetURI, DC['source'], URIRef('https://www.ncbi.nlm.nih.gov/pmc/articles/PMC3159979/bin/msb201126-s4.xls')))\n",
    "\n",
    "    g.add((datasetURI, DC['homepage'], URIRef('https://github.com/fair-workflows/openpredict/')))\n",
    "    g.add((datasetURI, DC['license'], URIRef('http://creativecommons.org/licenses/by/3.0/')))\n",
    "    g.add((datasetURI, DC['rights'], Literal('use-share-modify')))\n",
    "    g.add((datasetURI, DC['rights'], Literal('by-attribution')))\n",
    "    g.add((datasetURI, DC['rights'], Literal('restricted-by-source-license')))\n",
    "        \n",
    "    sourcedatasetURI = URIRef('https://www.ncbi.nlm.nih.gov/pmc/articles/PMC3159979/bin/msb201126-s1.xls')\n",
    "    g.add((sourcedatasetURI, DC['title'], Literal('Drug indications gold standard used in the PREDICT study (msb201126-s1.xls)')))\n",
    "    g.add((sourcedatasetURI, RDF['type'], URIRef('http://www.w3.org/ns/dcat#Distribution')))\n",
    "    g.add((sourcedatasetURI, DC['homepage'], URIRef('https://dx.doi.org/10.1038%2Fmsb.2011.26')))\n",
    "    g.add((sourcedatasetURI, URIRef('http://purl.org/pav/retrievedOn'), Literal(now.strftime(\"%Y-%m-%d %H:%M:%S\"))))\n",
    "    g.add((sourcedatasetURI, DC['format'], Literal('application/xls')))\n",
    "    g.add((sourcedatasetURI, DC['rights'], URIRef('https://creativecommons.org/licenses/by-nc-sa/3.0/us/')))\n",
    "    g.add((sourcedatasetURI, DC['publisher'], Literal('Molecular Systems Biology')))\n",
    "    g.add((sourcedatasetURI, DC['rights'], Literal('use')))\n",
    "    g.add((sourcedatasetURI, DC['rights'], Literal('no-commercial')))\n",
    "          \n",
    "\n",
    "    sourcedatasetURI = URIRef('https://www.ncbi.nlm.nih.gov/pmc/articles/PMC3159979/bin/msb201126-s4.xls')\n",
    "    g.add((sourcedatasetURI, DC['title'], Literal('Mapping between OMIM diseases and UMLS concepts used in the PREDICT study (msb201126-s4.xls)')))\n",
    "    g.add((sourcedatasetURI, RDF['type'], URIRef('http://www.w3.org/ns/dcat#Distribution')))\n",
    "    g.add((sourcedatasetURI, DC['homepage'], URIRef('https://dx.doi.org/10.1038%2Fmsb.2011.26')))\n",
    "    g.add((sourcedatasetURI, URIRef('http://purl.org/pav/retrievedOn'), Literal(now.strftime(\"%Y-%m-%d %H:%M:%S\"))))\n",
    "    g.add((sourcedatasetURI, DC['format'], Literal('application/xls')))\n",
    "    g.add((sourcedatasetURI, DC['rights'], URIRef('https://creativecommons.org/licenses/by-nc-sa/3.0/us/')))\n",
    "    g.add((sourcedatasetURI, DC['publisher'], Literal('Molecular Systems Biology')))\n",
    "    g.add((sourcedatasetURI, DC['rights'], Literal('use')))\n",
    "    g.add((sourcedatasetURI, DC['rights'], Literal('no-commercial')))\n",
    "    \n",
    "    return g"
   ]
  },
  {
   "cell_type": "code",
   "execution_count": 23,
   "metadata": {},
   "outputs": [],
   "source": [
    "g= addProvanace(g)"
   ]
  },
  {
   "cell_type": "code",
   "execution_count": 24,
   "metadata": {},
   "outputs": [],
   "source": [
    "g.serialize('data/rdf/predict-gold-standard-omim.nq', format='nquads')"
   ]
  },
  {
   "cell_type": "code",
   "execution_count": null,
   "metadata": {},
   "outputs": [],
   "source": []
  }
 ],
 "metadata": {
  "kernelspec": {
   "display_name": "Python 3",
   "language": "python",
   "name": "python3"
  },
  "language_info": {
   "codemirror_mode": {
    "name": "ipython",
    "version": 3
   },
   "file_extension": ".py",
   "mimetype": "text/x-python",
   "name": "python",
   "nbconvert_exporter": "python",
   "pygments_lexer": "ipython3",
   "version": "3.7.3"
  }
 },
 "nbformat": 4,
 "nbformat_minor": 2
}
