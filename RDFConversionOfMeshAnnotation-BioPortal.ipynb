{
 "cells": [
  {
   "cell_type": "code",
   "execution_count": 1,
   "metadata": {},
   "outputs": [],
   "source": [
    "import pandas as pd\n",
    "from csv import reader\n",
    "from src.util import utils\n",
    "from src.util.utils import Dataset, DataResource\n",
    "from rdflib import Graph, URIRef, Literal, RDF, ConjunctiveGraph\n",
    "from rdflib import Namespace\n",
    "import datetime\n"
   ]
  },
  {
   "cell_type": "code",
   "execution_count": 2,
   "metadata": {},
   "outputs": [],
   "source": [
    "omim_annots =[]\n",
    "with open('data/external/meshAnnotationsFromBioPorttalUsingOMIMDesc.txt','r') as mim2mesh_file:\n",
    "    for row in mim2mesh_file:\n",
    "        line = row.strip().split()\n",
    "        #print (line)\n",
    "        if len(line) != 2: continue\n",
    "        omim =line[0]\n",
    "        mesh =line[1].split(',')\n",
    "        for i in range(1,len(mesh)):\n",
    "            omim_annots.append([omim,mesh[i]])"
   ]
  },
  {
   "cell_type": "code",
   "execution_count": 3,
   "metadata": {},
   "outputs": [],
   "source": [
    "mim2mesh_df = pd.DataFrame(omim_annots, columns=['disease','annotation'])"
   ]
  },
  {
   "cell_type": "code",
   "execution_count": 4,
   "metadata": {},
   "outputs": [
    {
     "data": {
      "text/html": [
       "<div>\n",
       "<style scoped>\n",
       "    .dataframe tbody tr th:only-of-type {\n",
       "        vertical-align: middle;\n",
       "    }\n",
       "\n",
       "    .dataframe tbody tr th {\n",
       "        vertical-align: top;\n",
       "    }\n",
       "\n",
       "    .dataframe thead th {\n",
       "        text-align: right;\n",
       "    }\n",
       "</style>\n",
       "<table border=\"1\" class=\"dataframe\">\n",
       "  <thead>\n",
       "    <tr style=\"text-align: right;\">\n",
       "      <th></th>\n",
       "      <th>disease</th>\n",
       "      <th>annotation</th>\n",
       "    </tr>\n",
       "  </thead>\n",
       "  <tbody>\n",
       "    <tr>\n",
       "      <th>0</th>\n",
       "      <td>100050</td>\n",
       "      <td>D005121</td>\n",
       "    </tr>\n",
       "    <tr>\n",
       "      <th>1</th>\n",
       "      <td>100050</td>\n",
       "      <td>Q000002</td>\n",
       "    </tr>\n",
       "    <tr>\n",
       "      <th>2</th>\n",
       "      <td>100050</td>\n",
       "      <td>D014918</td>\n",
       "    </tr>\n",
       "    <tr>\n",
       "      <th>3</th>\n",
       "      <td>100050</td>\n",
       "      <td>D005220</td>\n",
       "    </tr>\n",
       "    <tr>\n",
       "      <th>4</th>\n",
       "      <td>100050</td>\n",
       "      <td>D009679</td>\n",
       "    </tr>\n",
       "  </tbody>\n",
       "</table>\n",
       "</div>"
      ],
      "text/plain": [
       "  disease annotation\n",
       "0  100050    D005121\n",
       "1  100050    Q000002\n",
       "2  100050    D014918\n",
       "3  100050    D005220\n",
       "4  100050    D009679"
      ]
     },
     "execution_count": 4,
     "metadata": {},
     "output_type": "execute_result"
    }
   ],
   "source": [
    "mim2mesh_df.head()"
   ]
  },
  {
   "cell_type": "code",
   "execution_count": 5,
   "metadata": {},
   "outputs": [],
   "source": [
    "mim2mesh_df = pd.DataFrame(omim_annots, columns=['disease','annotation'])\n",
    "\n",
    "mim2mesh_df['disease'] = mim2mesh_df['disease'].map(lambda x: 'http://bio2rdf.org/omim:'+str(x))\n",
    "mim2mesh_df['annotation'] = mim2mesh_df['annotation'].map(lambda x: 'http://bio2rdf.org/mesh:'+str(x))\n",
    "mim2mesh_df = mim2mesh_df.set_index('disease', drop=True)\n",
    "mim2mesh_df.rename(columns={'annotation':'http://semanticscience.org/resource/SIO_000255'},inplace=True)\n"
   ]
  },
  {
   "cell_type": "code",
   "execution_count": 6,
   "metadata": {},
   "outputs": [
    {
     "data": {
      "text/html": [
       "<div>\n",
       "<style scoped>\n",
       "    .dataframe tbody tr th:only-of-type {\n",
       "        vertical-align: middle;\n",
       "    }\n",
       "\n",
       "    .dataframe tbody tr th {\n",
       "        vertical-align: top;\n",
       "    }\n",
       "\n",
       "    .dataframe thead th {\n",
       "        text-align: right;\n",
       "    }\n",
       "</style>\n",
       "<table border=\"1\" class=\"dataframe\">\n",
       "  <thead>\n",
       "    <tr style=\"text-align: right;\">\n",
       "      <th></th>\n",
       "      <th>http://semanticscience.org/resource/SIO_000255</th>\n",
       "    </tr>\n",
       "    <tr>\n",
       "      <th>disease</th>\n",
       "      <th></th>\n",
       "    </tr>\n",
       "  </thead>\n",
       "  <tbody>\n",
       "    <tr>\n",
       "      <th>http://bio2rdf.org/omim:100050</th>\n",
       "      <td>http://bio2rdf.org/mesh:D005121</td>\n",
       "    </tr>\n",
       "    <tr>\n",
       "      <th>http://bio2rdf.org/omim:100050</th>\n",
       "      <td>http://bio2rdf.org/mesh:Q000002</td>\n",
       "    </tr>\n",
       "    <tr>\n",
       "      <th>http://bio2rdf.org/omim:100050</th>\n",
       "      <td>http://bio2rdf.org/mesh:D014918</td>\n",
       "    </tr>\n",
       "    <tr>\n",
       "      <th>http://bio2rdf.org/omim:100050</th>\n",
       "      <td>http://bio2rdf.org/mesh:D005220</td>\n",
       "    </tr>\n",
       "    <tr>\n",
       "      <th>http://bio2rdf.org/omim:100050</th>\n",
       "      <td>http://bio2rdf.org/mesh:D009679</td>\n",
       "    </tr>\n",
       "  </tbody>\n",
       "</table>\n",
       "</div>"
      ],
      "text/plain": [
       "                               http://semanticscience.org/resource/SIO_000255\n",
       "disease                                                                      \n",
       "http://bio2rdf.org/omim:100050                http://bio2rdf.org/mesh:D005121\n",
       "http://bio2rdf.org/omim:100050                http://bio2rdf.org/mesh:Q000002\n",
       "http://bio2rdf.org/omim:100050                http://bio2rdf.org/mesh:D014918\n",
       "http://bio2rdf.org/omim:100050                http://bio2rdf.org/mesh:D005220\n",
       "http://bio2rdf.org/omim:100050                http://bio2rdf.org/mesh:D009679"
      ]
     },
     "execution_count": 6,
     "metadata": {},
     "output_type": "execute_result"
    }
   ],
   "source": [
    "mim2mesh_df.head()"
   ]
  },
  {
   "cell_type": "code",
   "execution_count": 8,
   "metadata": {},
   "outputs": [],
   "source": [
    "column_types ={'http://semanticscience.org/resource/SIO_000255':'URI'}\n",
    "graphURI = URIRef('http://w3id.org/fairworkflows/dataset.openpredict.meshannot_bioportal.R1')\n",
    "    \n",
    "g = ConjunctiveGraph(identifier = graphURI )     \n",
    "g =  utils.to_rdf(g, mim2mesh_df, column_types, 'http://bio2rdf.org/omim_vocabulary:Phenotype' )\n",
    "\n"
   ]
  },
  {
   "cell_type": "code",
   "execution_count": 9,
   "metadata": {},
   "outputs": [],
   "source": [
    "g.serialize('data/rdf/omim_mesh_bioportal.nq', format='nquads')"
   ]
  },
  {
   "cell_type": "code",
   "execution_count": 10,
   "metadata": {},
   "outputs": [],
   "source": [
    "def addMetaData(g, graphURI):\n",
    "    #generate dataset\n",
    "    data_source = Dataset(qname=graphURI, graph = g)\n",
    "    data_source.setURI(graphURI)\n",
    "    data_source.setTitle('Mesh Annotations for OMIM diseases')\n",
    "    data_source.setDescription('This dataset contains the MeSH terms appeared in OMIM disease description. The annotation was done using BioPortal API.')\n",
    "    data_source.setPublisher('https://www.maastrichtuniversity.nl/research/institute-data-science')\n",
    "    data_source.setPublisherName('Institute of Data Science')\n",
    "    data_source.addRight('use-share-modify')\n",
    "    data_source.addTheme('http://www.wikidata.org/entity/Q199897')\n",
    "    data_source.addTheme('http://www.wikidata.org/entity/Q857525')\n",
    "    data_source.setLicense('http://creativecommons.org/licenses/by/4.0/')\n",
    "    data_source.setVersion('1.0')\n",
    "\n",
    "\n",
    "    #generate dataset distribution\n",
    "    data_dist = DataResource(qname=graphURI, graph = data_source.toRDF())\n",
    "    data_dist.setURI('http:/w3id.org/fairworkflows/dataset.openpredict.meshannot_bioportal/version/1/source')\n",
    "    data_dist.setDownloadURL('https://github.com/fair-workflows/openpredict/blob/master/data/external/meshAnnotationsFromBioPorttalUsingOMIMDesc.txt')\n",
    "    data_dist.setTitle('Mesh Annotations using BioPortal API')\n",
    "    data_dist.setLicense('http://creativecommons.org/licenses/by/4.0/')\n",
    "    data_dist.setVersion('1.0')\n",
    "    data_dist.setFormat('text/tab-separated-value')\n",
    "    data_dist.setMediaType('text/tab-separated-value')\n",
    "    data_dist.setPublisher('https://github.com/fair-workflows/openpredict')\n",
    "    data_dist.addRight('use-share-modify')\n",
    "    data_dist.setRetrievedDate(datetime.datetime.now().strftime(\"%Y-%m-%d %H:%M:%S\"))\n",
    "    data_dist.setDataset(data_source.getURI())\n",
    "\n",
    "    #generate RDF data distrubtion\n",
    "    rdf_dist = DataResource(qname=graphURI, graph = data_dist.toRDF() )\n",
    "    rdf_dist.setURI('http:/w3id.org/fairworkflows/dataset.openpredict.meshannot_bioportal/version/1/rdf/data')\n",
    "    rdf_dist.setTitle('RDF Version of the MESH Annotations for OMIM diseases using BioPortal')\n",
    "    rdf_dist.setLicense('http://creativecommons.org/licenses/by/3.0/')\n",
    "    rdf_dist.setVersion('1.0')\n",
    "    rdf_dist.setFormat('application/n-quads')\n",
    "    rdf_dist.setMediaType('application/n-quads')\n",
    "    rdf_dist.addRight('use-share-modify')\n",
    "    rdf_dist.addRight('by-attribution')\n",
    "    rdf_dist.addRight('restricted-by-source-license')\n",
    "    rdf_dist.setCreateDate(datetime.datetime.now().strftime(\"%Y-%m-%d %H:%M:%S\"))\n",
    "    rdf_dist.setCreator('https://github.com/fair-workflows/openpredict/src/RDFConversionOfMeshAnnotation-BioPortal.py')\n",
    "    rdf_dist.setDownloadURL('https://github.com/fair-workflows/openpredict/blob/master/data/rdf/omim_mesh_bioportal.nq.gz')\n",
    "    rdf_dist.setDataset(data_dist.getURI())\n",
    "      \n",
    "    return rdf_dist.toRDF()\n",
    "\n"
   ]
  },
  {
   "cell_type": "code",
   "execution_count": 11,
   "metadata": {},
   "outputs": [],
   "source": [
    "g = ConjunctiveGraph(identifier = graphURI)\n",
    "g= addMetaData(g, graphURI)\n"
   ]
  },
  {
   "cell_type": "code",
   "execution_count": 12,
   "metadata": {},
   "outputs": [
    {
     "name": "stdout",
     "output_type": "stream",
     "text": [
      "RDF is generated at data/rdf/omim_mesh_bioportal_metadata.nq\n"
     ]
    }
   ],
   "source": [
    "outfile ='data/rdf/omim_mesh_bioportal_metadata.nq'\n",
    "g.serialize(outfile, format='nquads')\n",
    "print('RDF is generated at '+outfile)"
   ]
  },
  {
   "cell_type": "code",
   "execution_count": null,
   "metadata": {},
   "outputs": [],
   "source": []
  }
 ],
 "metadata": {
  "kernelspec": {
   "display_name": "Python 3",
   "language": "python",
   "name": "python3"
  },
  "language_info": {
   "codemirror_mode": {
    "name": "ipython",
    "version": 3
   },
   "file_extension": ".py",
   "mimetype": "text/x-python",
   "name": "python",
   "nbconvert_exporter": "python",
   "pygments_lexer": "ipython3",
   "version": "3.7.3"
  }
 },
 "nbformat": 4,
 "nbformat_minor": 2
}
