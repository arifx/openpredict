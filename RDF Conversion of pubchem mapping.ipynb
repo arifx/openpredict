{
 "cells": [
  {
   "cell_type": "code",
   "execution_count": 1,
   "metadata": {},
   "outputs": [],
   "source": [
    "import pandas as pd"
   ]
  },
  {
   "cell_type": "code",
   "execution_count": 2,
   "metadata": {},
   "outputs": [
    {
     "name": "stderr",
     "output_type": "stream",
     "text": [
      "/opt/conda/lib/python3.7/site-packages/ipykernel_launcher.py:2: FutureWarning: read_table is deprecated, use read_csv instead, passing sep='\\t'.\n",
      "  \n"
     ]
    }
   ],
   "source": [
    "url = 'https://raw.githubusercontent.com/dhimmel/drugbank/3e87872db5fca5ac427ce27464ab945c0ceb4ec6/data/mapping/pubchem.tsv'\n",
    "drugbank_map_df = pd.read_table(url)"
   ]
  },
  {
   "cell_type": "code",
   "execution_count": 3,
   "metadata": {},
   "outputs": [
    {
     "data": {
      "text/html": [
       "<div>\n",
       "<style scoped>\n",
       "    .dataframe tbody tr th:only-of-type {\n",
       "        vertical-align: middle;\n",
       "    }\n",
       "\n",
       "    .dataframe tbody tr th {\n",
       "        vertical-align: top;\n",
       "    }\n",
       "\n",
       "    .dataframe thead th {\n",
       "        text-align: right;\n",
       "    }\n",
       "</style>\n",
       "<table border=\"1\" class=\"dataframe\">\n",
       "  <thead>\n",
       "    <tr style=\"text-align: right;\">\n",
       "      <th></th>\n",
       "      <th>drugbank_id</th>\n",
       "      <th>pubchem_id</th>\n",
       "    </tr>\n",
       "  </thead>\n",
       "  <tbody>\n",
       "    <tr>\n",
       "      <th>0</th>\n",
       "      <td>DB00014</td>\n",
       "      <td>11980055</td>\n",
       "    </tr>\n",
       "    <tr>\n",
       "      <th>1</th>\n",
       "      <td>DB00014</td>\n",
       "      <td>11981235</td>\n",
       "    </tr>\n",
       "    <tr>\n",
       "      <th>2</th>\n",
       "      <td>DB00014</td>\n",
       "      <td>11982741</td>\n",
       "    </tr>\n",
       "    <tr>\n",
       "      <th>3</th>\n",
       "      <td>DB00014</td>\n",
       "      <td>16052011</td>\n",
       "    </tr>\n",
       "    <tr>\n",
       "      <th>4</th>\n",
       "      <td>DB00014</td>\n",
       "      <td>23581804</td>\n",
       "    </tr>\n",
       "  </tbody>\n",
       "</table>\n",
       "</div>"
      ],
      "text/plain": [
       "  drugbank_id  pubchem_id\n",
       "0     DB00014    11980055\n",
       "1     DB00014    11981235\n",
       "2     DB00014    11982741\n",
       "3     DB00014    16052011\n",
       "4     DB00014    23581804"
      ]
     },
     "execution_count": 3,
     "metadata": {},
     "output_type": "execute_result"
    }
   ],
   "source": [
    "drugbank_map_df.head()"
   ]
  },
  {
   "cell_type": "code",
   "execution_count": 4,
   "metadata": {},
   "outputs": [],
   "source": [
    "from rdflib import Graph, URIRef, Literal, RDF, ConjunctiveGraph\n",
    "def to_rdf(g, df, column_types, row_uri):\n",
    "    \"\"\"\n",
    "    Parameters\n",
    "    ----------\n",
    "    g : input rdflib.Graph  \n",
    "    df: DataFrame to be converted into RDF Graph\n",
    "    column_types: dictonary of column and its type, type can be URI or Literal\n",
    "    row_uri: rdf:type value for row index, should be URI\n",
    "    Returns\n",
    "    -------\n",
    "    g: rdflib.Graph generated from DataFrame object\n",
    "    \"\"\"\n",
    "    \n",
    "    for (index, series) in df.iterrows():\n",
    "        g.add((URIRef(index), RDF.type, URIRef(row_uri)) )\n",
    "        for (column, value) in series.iteritems():\n",
    "            if column_types[column] == 'URI':\n",
    "                g.add((URIRef(index), URIRef(column), URIRef(value)))\n",
    "            else:\n",
    "                g.add((URIRef(index), URIRef(column), Literal(value)))\n",
    "                \n",
    "    return g"
   ]
  },
  {
   "cell_type": "code",
   "execution_count": 5,
   "metadata": {},
   "outputs": [],
   "source": [
    "drugbank_map_df['drugbank_id'] = drugbank_map_df['drugbank_id'].map(lambda x: 'http://bio2rdf.org/drugbank:'+str(x))"
   ]
  },
  {
   "cell_type": "code",
   "execution_count": 6,
   "metadata": {},
   "outputs": [],
   "source": [
    "drugbank_map_df['pubchem_id'] = drugbank_map_df['pubchem_id'].map(lambda x: 'http://bio2rdf.org/pubchem.compound:'+str(x))"
   ]
  },
  {
   "cell_type": "code",
   "execution_count": 7,
   "metadata": {},
   "outputs": [
    {
     "data": {
      "text/html": [
       "<div>\n",
       "<style scoped>\n",
       "    .dataframe tbody tr th:only-of-type {\n",
       "        vertical-align: middle;\n",
       "    }\n",
       "\n",
       "    .dataframe tbody tr th {\n",
       "        vertical-align: top;\n",
       "    }\n",
       "\n",
       "    .dataframe thead th {\n",
       "        text-align: right;\n",
       "    }\n",
       "</style>\n",
       "<table border=\"1\" class=\"dataframe\">\n",
       "  <thead>\n",
       "    <tr style=\"text-align: right;\">\n",
       "      <th></th>\n",
       "      <th>drugbank_id</th>\n",
       "      <th>pubchem_id</th>\n",
       "    </tr>\n",
       "  </thead>\n",
       "  <tbody>\n",
       "    <tr>\n",
       "      <th>0</th>\n",
       "      <td>http://bio2rdf.org/drugbank:DB00014</td>\n",
       "      <td>http://bio2rdf.org/pubchem.compound:11980055</td>\n",
       "    </tr>\n",
       "    <tr>\n",
       "      <th>1</th>\n",
       "      <td>http://bio2rdf.org/drugbank:DB00014</td>\n",
       "      <td>http://bio2rdf.org/pubchem.compound:11981235</td>\n",
       "    </tr>\n",
       "    <tr>\n",
       "      <th>2</th>\n",
       "      <td>http://bio2rdf.org/drugbank:DB00014</td>\n",
       "      <td>http://bio2rdf.org/pubchem.compound:11982741</td>\n",
       "    </tr>\n",
       "    <tr>\n",
       "      <th>3</th>\n",
       "      <td>http://bio2rdf.org/drugbank:DB00014</td>\n",
       "      <td>http://bio2rdf.org/pubchem.compound:16052011</td>\n",
       "    </tr>\n",
       "    <tr>\n",
       "      <th>4</th>\n",
       "      <td>http://bio2rdf.org/drugbank:DB00014</td>\n",
       "      <td>http://bio2rdf.org/pubchem.compound:23581804</td>\n",
       "    </tr>\n",
       "  </tbody>\n",
       "</table>\n",
       "</div>"
      ],
      "text/plain": [
       "                           drugbank_id  \\\n",
       "0  http://bio2rdf.org/drugbank:DB00014   \n",
       "1  http://bio2rdf.org/drugbank:DB00014   \n",
       "2  http://bio2rdf.org/drugbank:DB00014   \n",
       "3  http://bio2rdf.org/drugbank:DB00014   \n",
       "4  http://bio2rdf.org/drugbank:DB00014   \n",
       "\n",
       "                                     pubchem_id  \n",
       "0  http://bio2rdf.org/pubchem.compound:11980055  \n",
       "1  http://bio2rdf.org/pubchem.compound:11981235  \n",
       "2  http://bio2rdf.org/pubchem.compound:11982741  \n",
       "3  http://bio2rdf.org/pubchem.compound:16052011  \n",
       "4  http://bio2rdf.org/pubchem.compound:23581804  "
      ]
     },
     "execution_count": 7,
     "metadata": {},
     "output_type": "execute_result"
    }
   ],
   "source": [
    "drugbank_map_df.head()"
   ]
  },
  {
   "cell_type": "code",
   "execution_count": 8,
   "metadata": {},
   "outputs": [],
   "source": [
    "drugbank_map_df = drugbank_map_df.set_index('drugbank_id', drop=True)"
   ]
  },
  {
   "cell_type": "code",
   "execution_count": 9,
   "metadata": {},
   "outputs": [],
   "source": [
    "drugbank_map_df.rename(columns={'pubchem_id':'http://bio2rdf.org/openpredict_vocabulary:x-pubchemcompound'},inplace=True)"
   ]
  },
  {
   "cell_type": "code",
   "execution_count": 10,
   "metadata": {},
   "outputs": [],
   "source": [
    "column_types ={'http://bio2rdf.org/openpredict_vocabulary:x-pubchemcompound':'URI'}\n",
    "\n",
    "g =  ConjunctiveGraph(identifier = URIRef('http://bio2rdf.org/openpredict_resource:fairworkflows.dataset.openpredict.pubhem.R1'))     \n",
    "\n",
    "g=  to_rdf(g, drugbank_map_df, column_types, 'http://bio2rdf.org/drugbank:Drug' )"
   ]
  },
  {
   "cell_type": "code",
   "execution_count": 11,
   "metadata": {},
   "outputs": [],
   "source": [
    "g.serialize('data/rdf/pubchem_mapping.nq', format='nquads')"
   ]
  },
  {
   "cell_type": "code",
   "execution_count": null,
   "metadata": {},
   "outputs": [],
   "source": []
  }
 ],
 "metadata": {
  "kernelspec": {
   "display_name": "Python 3",
   "language": "python",
   "name": "python3"
  },
  "language_info": {
   "codemirror_mode": {
    "name": "ipython",
    "version": 3
   },
   "file_extension": ".py",
   "mimetype": "text/x-python",
   "name": "python",
   "nbconvert_exporter": "python",
   "pygments_lexer": "ipython3",
   "version": "3.7.3"
  }
 },
 "nbformat": 4,
 "nbformat_minor": 2
}
