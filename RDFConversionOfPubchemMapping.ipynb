{
 "cells": [
  {
   "cell_type": "code",
   "execution_count": 1,
   "metadata": {},
   "outputs": [],
   "source": [
    "\"\"\"\n",
    "RDF generator for the mappings from Pubchem ids to Drugbank ids (https://raw.githubusercontent.com/dhimmel/drugbank/3e87872db5fca5ac427ce27464ab945c0ceb4ec6/data/mapping/pubchem.tsv)\n",
    "@version 1.0\n",
    "@author Remzi Celebi\n",
    "\"\"\"\n",
    "\n",
    "import pandas as pd\n",
    "from csv import reader\n",
    "from src.util import utils\n",
    "from src.util.utils import Dataset, DataResource\n",
    "from rdflib import Graph, URIRef, Literal, RDF, ConjunctiveGraph\n",
    "from rdflib import Namespace\n",
    "import datetime"
   ]
  },
  {
   "cell_type": "code",
   "execution_count": 2,
   "metadata": {},
   "outputs": [],
   "source": [
    "url = 'https://raw.githubusercontent.com/dhimmel/drugbank/3e87872db5fca5ac427ce27464ab945c0ceb4ec6/data/mapping/pubchem.tsv'\n",
    "drugbank_map_df = pd.read_csv(url, sep='\\t')\n",
    "\n",
    "#save the original file\n",
    "drugbank_map_df.to_csv('data/external/pubchem.tsv', sep='\\t', index=False)\n",
    "\n",
    "\n",
    "drugbank_map_df['drugbank_id'] = drugbank_map_df['drugbank_id'].map(lambda x: 'http://bio2rdf.org/drugbank:'+str(x))\n",
    "drugbank_map_df['pubchem_id'] = drugbank_map_df['pubchem_id'].map(lambda x: 'http://bio2rdf.org/pubchem.compound:'+str(x))\n",
    "drugbank_map_df = drugbank_map_df.set_index('drugbank_id', drop=True)\n",
    "drugbank_map_df.rename(columns={'pubchem_id':'http://bio2rdf.org/openpredict_vocabulary:x-pubchemcompound'},inplace=True)\n",
    "\n"
   ]
  },
  {
   "cell_type": "code",
   "execution_count": 3,
   "metadata": {},
   "outputs": [
    {
     "data": {
      "text/html": [
       "<div>\n",
       "<style scoped>\n",
       "    .dataframe tbody tr th:only-of-type {\n",
       "        vertical-align: middle;\n",
       "    }\n",
       "\n",
       "    .dataframe tbody tr th {\n",
       "        vertical-align: top;\n",
       "    }\n",
       "\n",
       "    .dataframe thead th {\n",
       "        text-align: right;\n",
       "    }\n",
       "</style>\n",
       "<table border=\"1\" class=\"dataframe\">\n",
       "  <thead>\n",
       "    <tr style=\"text-align: right;\">\n",
       "      <th></th>\n",
       "      <th>http://bio2rdf.org/openpredict_vocabulary:x-pubchemcompound</th>\n",
       "    </tr>\n",
       "    <tr>\n",
       "      <th>drugbank_id</th>\n",
       "      <th></th>\n",
       "    </tr>\n",
       "  </thead>\n",
       "  <tbody>\n",
       "    <tr>\n",
       "      <th>http://bio2rdf.org/drugbank:DB00014</th>\n",
       "      <td>http://bio2rdf.org/pubchem.compound:11980055</td>\n",
       "    </tr>\n",
       "    <tr>\n",
       "      <th>http://bio2rdf.org/drugbank:DB00014</th>\n",
       "      <td>http://bio2rdf.org/pubchem.compound:11981235</td>\n",
       "    </tr>\n",
       "    <tr>\n",
       "      <th>http://bio2rdf.org/drugbank:DB00014</th>\n",
       "      <td>http://bio2rdf.org/pubchem.compound:11982741</td>\n",
       "    </tr>\n",
       "    <tr>\n",
       "      <th>http://bio2rdf.org/drugbank:DB00014</th>\n",
       "      <td>http://bio2rdf.org/pubchem.compound:16052011</td>\n",
       "    </tr>\n",
       "    <tr>\n",
       "      <th>http://bio2rdf.org/drugbank:DB00014</th>\n",
       "      <td>http://bio2rdf.org/pubchem.compound:23581804</td>\n",
       "    </tr>\n",
       "  </tbody>\n",
       "</table>\n",
       "</div>"
      ],
      "text/plain": [
       "                                    http://bio2rdf.org/openpredict_vocabulary:x-pubchemcompound\n",
       "drugbank_id                                                                                    \n",
       "http://bio2rdf.org/drugbank:DB00014       http://bio2rdf.org/pubchem.compound:11980055         \n",
       "http://bio2rdf.org/drugbank:DB00014       http://bio2rdf.org/pubchem.compound:11981235         \n",
       "http://bio2rdf.org/drugbank:DB00014       http://bio2rdf.org/pubchem.compound:11982741         \n",
       "http://bio2rdf.org/drugbank:DB00014       http://bio2rdf.org/pubchem.compound:16052011         \n",
       "http://bio2rdf.org/drugbank:DB00014       http://bio2rdf.org/pubchem.compound:23581804         "
      ]
     },
     "execution_count": 3,
     "metadata": {},
     "output_type": "execute_result"
    }
   ],
   "source": [
    "drugbank_map_df.head()"
   ]
  },
  {
   "cell_type": "code",
   "execution_count": 4,
   "metadata": {},
   "outputs": [],
   "source": [
    "column_types ={'http://bio2rdf.org/openpredict_vocabulary:x-pubchemcompound':'URI'}\n",
    "graphURI = URIRef('http://w3id.org/fairworkflows/dataset.openpredict.pubchem.R1')\n",
    "g = ConjunctiveGraph(identifier = graphURI)     \n",
    "\n",
    "g = utils.to_rdf(g, drugbank_map_df, column_types, 'http://bio2rdf.org/drugbank:Drug' )"
   ]
  },
  {
   "cell_type": "code",
   "execution_count": 5,
   "metadata": {},
   "outputs": [],
   "source": [
    "g.serialize('data/rdf/pubchem_mapping.nq', format='nquads')"
   ]
  },
  {
   "cell_type": "code",
   "execution_count": 6,
   "metadata": {},
   "outputs": [],
   "source": [
    "def addMetaData(g, graphURI):\n",
    "    #generate dataset\n",
    "    data_source = Dataset(qname=graphURI, graph = g)\n",
    "    data_source.setURI(graphURI)\n",
    "    data_source.setTitle('Pubchem mappings for Drugbank drugs')\n",
    "    data_source.setDescription('DrugBank to PubChem mapping using InChI strings created by Daniel Himmelstein.')\n",
    "    data_source.setPublisher('https://github.com/dhimmel')\n",
    "    data_source.setPublisherName('Daniel Himmelstein')\n",
    "    data_source.addRight('use-share-modify')\n",
    "    data_source.addTheme('http://www.wikidata.org/entity/Q278487')\n",
    "    data_source.addTheme('http://www.wikidata.org/entity/Q1122544')\n",
    "    data_source.setLicense('http://creativecommons.org/licenses/by/4.0/')\n",
    "    data_source.setHomepage('https://github.com/dhimmel/drugbank/blob/gh-pages/pubchem-map.ipynb')\n",
    "\n",
    "\n",
    "    #generate dataset distribution\n",
    "    data_dist = DataResource(qname=graphURI, graph = data_source.toRDF())\n",
    "    data_dist.setURI('http:/w3id.org/fairworkflows/dataset.openpredict.pubchem/version/1/source')\n",
    "    data_dist.setTitle('Pubchem mappings for Drugbank drugs (pubchem.tsv)')\n",
    "    data_dist.setLicense('http://creativecommons.org/licenses/by/4.0/')\n",
    "    data_dist.setVersion('1.0')\n",
    "    data_dist.setFormat('text/tab-separated-value')\n",
    "    data_dist.setMediaType('text/tab-separated-value')\n",
    "    data_dist.setPublisher('https://github.com/dhimmel')\n",
    "    data_dist.addRight('use-share-modify')\n",
    "    data_dist.setRetrievedDate(datetime.datetime.now().strftime(\"%Y-%m-%d %H:%M:%S\"))\n",
    "    data_dist.setDataset(data_source.getURI())\n",
    "\n",
    "    #generate RDF data distrubtion\n",
    "    rdf_dist = DataResource(qname=graphURI, graph = data_dist.toRDF() )\n",
    "    rdf_dist.setURI('http:/w3id.org/fairworkflows/dataset.openpredict.pubchem/version/1/rdf/data')\n",
    "    rdf_dist.setTitle('RDF Version of the Pubchem mappings for Drugbank drugs')\n",
    "    rdf_dist.setLicense('http://creativecommons.org/licenses/by/3.0/')\n",
    "    rdf_dist.setVersion('1.0')\n",
    "    rdf_dist.setFormat('application/n-quads')\n",
    "    rdf_dist.setMediaType('application/n-quads')\n",
    "    rdf_dist.addRight('use-share-modify')\n",
    "    rdf_dist.addRight('by-attribution')\n",
    "    rdf_dist.addRight('restricted-by-source-license')\n",
    "    rdf_dist.setCreateDate(datetime.datetime.now().strftime(\"%Y-%m-%d %H:%M:%S\"))\n",
    "    rdf_dist.setCreator('https://github.com/fair-workflows/openpredict/src/RDFConversionOfPubchemMapping.py')\n",
    "    rdf_dist.setDownloadURL('https://github.com/fair-workflows/openpredict/blob/master/data/rdf/pubchem_mapping.nq.gz')\n",
    "    rdf_dist.setDataset(data_dist.getURI())\n",
    "      \n",
    "    return rdf_dist.toRDF()\n",
    "\n",
    "\n"
   ]
  },
  {
   "cell_type": "code",
   "execution_count": 7,
   "metadata": {},
   "outputs": [],
   "source": [
    "graphURI = URIRef('http://w3id.org/fairworkflows/dataset.openpredict.pubchem.R1')\n",
    "g = ConjunctiveGraph(identifier = graphURI) \n",
    "\n",
    "g = addMetaData(g, graphURI)\n",
    "\n"
   ]
  },
  {
   "cell_type": "code",
   "execution_count": 8,
   "metadata": {},
   "outputs": [
    {
     "name": "stdout",
     "output_type": "stream",
     "text": [
      "RDF is generated at data/rdf/pubchem_mapping_metadata.nq\n"
     ]
    }
   ],
   "source": [
    "outfile ='data/rdf/pubchem_mapping_metadata.nq'\n",
    "g.serialize(outfile, format='nquads')\n",
    "print('RDF is generated at '+outfile)"
   ]
  },
  {
   "cell_type": "code",
   "execution_count": null,
   "metadata": {},
   "outputs": [],
   "source": []
  }
 ],
 "metadata": {
  "kernelspec": {
   "display_name": "Python 3",
   "language": "python",
   "name": "python3"
  },
  "language_info": {
   "codemirror_mode": {
    "name": "ipython",
    "version": 3
   },
   "file_extension": ".py",
   "mimetype": "text/x-python",
   "name": "python",
   "nbconvert_exporter": "python",
   "pygments_lexer": "ipython3",
   "version": "3.7.3"
  }
 },
 "nbformat": 4,
 "nbformat_minor": 2
}
