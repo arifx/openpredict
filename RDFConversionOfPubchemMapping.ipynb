{
 "cells": [
  {
   "cell_type": "code",
   "execution_count": 1,
   "metadata": {},
   "outputs": [],
   "source": [
    "import pandas as pd"
   ]
  },
  {
   "cell_type": "code",
   "execution_count": 2,
   "metadata": {},
   "outputs": [
    {
     "name": "stderr",
     "output_type": "stream",
     "text": [
      "/opt/conda/lib/python3.7/site-packages/ipykernel_launcher.py:2: FutureWarning: read_table is deprecated, use read_csv instead, passing sep='\\t'.\n",
      "  \n"
     ]
    }
   ],
   "source": [
    "url = 'https://raw.githubusercontent.com/dhimmel/drugbank/3e87872db5fca5ac427ce27464ab945c0ceb4ec6/data/mapping/pubchem.tsv'\n",
    "drugbank_map_df = pd.read_table(url)"
   ]
  },
  {
   "cell_type": "code",
   "execution_count": 4,
   "metadata": {},
   "outputs": [],
   "source": [
    "drugbank_map_df.to_csv('data/input/pubchem.tsv', sep='\\t', index=False)"
   ]
  },
  {
   "cell_type": "code",
   "execution_count": 22,
   "metadata": {},
   "outputs": [
    {
     "data": {
      "text/html": [
       "<div>\n",
       "<style scoped>\n",
       "    .dataframe tbody tr th:only-of-type {\n",
       "        vertical-align: middle;\n",
       "    }\n",
       "\n",
       "    .dataframe tbody tr th {\n",
       "        vertical-align: top;\n",
       "    }\n",
       "\n",
       "    .dataframe thead th {\n",
       "        text-align: right;\n",
       "    }\n",
       "</style>\n",
       "<table border=\"1\" class=\"dataframe\">\n",
       "  <thead>\n",
       "    <tr style=\"text-align: right;\">\n",
       "      <th></th>\n",
       "      <th>http://bio2rdf.org/openpredict_vocabulary:x-pubchemcompound</th>\n",
       "    </tr>\n",
       "    <tr>\n",
       "      <th>drugbank_id</th>\n",
       "      <th></th>\n",
       "    </tr>\n",
       "  </thead>\n",
       "  <tbody>\n",
       "    <tr>\n",
       "      <th>http://bio2rdf.org/drugbank:DB00014</th>\n",
       "      <td>http://bio2rdf.org/pubchem.compound:11980055</td>\n",
       "    </tr>\n",
       "    <tr>\n",
       "      <th>http://bio2rdf.org/drugbank:DB00014</th>\n",
       "      <td>http://bio2rdf.org/pubchem.compound:11981235</td>\n",
       "    </tr>\n",
       "    <tr>\n",
       "      <th>http://bio2rdf.org/drugbank:DB00014</th>\n",
       "      <td>http://bio2rdf.org/pubchem.compound:11982741</td>\n",
       "    </tr>\n",
       "    <tr>\n",
       "      <th>http://bio2rdf.org/drugbank:DB00014</th>\n",
       "      <td>http://bio2rdf.org/pubchem.compound:16052011</td>\n",
       "    </tr>\n",
       "    <tr>\n",
       "      <th>http://bio2rdf.org/drugbank:DB00014</th>\n",
       "      <td>http://bio2rdf.org/pubchem.compound:23581804</td>\n",
       "    </tr>\n",
       "  </tbody>\n",
       "</table>\n",
       "</div>"
      ],
      "text/plain": [
       "                                    http://bio2rdf.org/openpredict_vocabulary:x-pubchemcompound\n",
       "drugbank_id                                                                                    \n",
       "http://bio2rdf.org/drugbank:DB00014       http://bio2rdf.org/pubchem.compound:11980055         \n",
       "http://bio2rdf.org/drugbank:DB00014       http://bio2rdf.org/pubchem.compound:11981235         \n",
       "http://bio2rdf.org/drugbank:DB00014       http://bio2rdf.org/pubchem.compound:11982741         \n",
       "http://bio2rdf.org/drugbank:DB00014       http://bio2rdf.org/pubchem.compound:16052011         \n",
       "http://bio2rdf.org/drugbank:DB00014       http://bio2rdf.org/pubchem.compound:23581804         "
      ]
     },
     "execution_count": 22,
     "metadata": {},
     "output_type": "execute_result"
    }
   ],
   "source": [
    "drugbank_map_df.head()"
   ]
  },
  {
   "cell_type": "code",
   "execution_count": 6,
   "metadata": {},
   "outputs": [],
   "source": [
    "from rdflib import Graph, URIRef, Literal, RDF, ConjunctiveGraph\n",
    "def to_rdf(g, df, column_types, row_uri):\n",
    "    \"\"\"\n",
    "    Parameters\n",
    "    ----------\n",
    "    g : input rdflib.Graph  \n",
    "    df: DataFrame to be converted into RDF Graph\n",
    "    column_types: dictonary of column and its type, type can be URI or Literal\n",
    "    row_uri: rdf:type value for row index, should be URI\n",
    "    Returns\n",
    "    -------\n",
    "    g: rdflib.Graph generated from DataFrame object\n",
    "    \"\"\"\n",
    "    \n",
    "    for (index, series) in df.iterrows():\n",
    "        g.add((URIRef(index), RDF.type, URIRef(row_uri)) )\n",
    "        for (column, value) in series.iteritems():\n",
    "            if column_types[column] == 'URI':\n",
    "                g.add((URIRef(index), URIRef(column), URIRef(value)))\n",
    "            else:\n",
    "                g.add((URIRef(index), URIRef(column), Literal(value)))\n",
    "                \n",
    "    return g"
   ]
  },
  {
   "cell_type": "code",
   "execution_count": 7,
   "metadata": {},
   "outputs": [],
   "source": [
    "drugbank_map_df['drugbank_id'] = drugbank_map_df['drugbank_id'].map(lambda x: 'http://bio2rdf.org/drugbank:'+str(x))"
   ]
  },
  {
   "cell_type": "code",
   "execution_count": 8,
   "metadata": {},
   "outputs": [],
   "source": [
    "drugbank_map_df['pubchem_id'] = drugbank_map_df['pubchem_id'].map(lambda x: 'http://bio2rdf.org/pubchem.compound:'+str(x))"
   ]
  },
  {
   "cell_type": "code",
   "execution_count": 9,
   "metadata": {},
   "outputs": [
    {
     "data": {
      "text/html": [
       "<div>\n",
       "<style scoped>\n",
       "    .dataframe tbody tr th:only-of-type {\n",
       "        vertical-align: middle;\n",
       "    }\n",
       "\n",
       "    .dataframe tbody tr th {\n",
       "        vertical-align: top;\n",
       "    }\n",
       "\n",
       "    .dataframe thead th {\n",
       "        text-align: right;\n",
       "    }\n",
       "</style>\n",
       "<table border=\"1\" class=\"dataframe\">\n",
       "  <thead>\n",
       "    <tr style=\"text-align: right;\">\n",
       "      <th></th>\n",
       "      <th>drugbank_id</th>\n",
       "      <th>pubchem_id</th>\n",
       "    </tr>\n",
       "  </thead>\n",
       "  <tbody>\n",
       "    <tr>\n",
       "      <th>0</th>\n",
       "      <td>http://bio2rdf.org/drugbank:DB00014</td>\n",
       "      <td>http://bio2rdf.org/pubchem.compound:11980055</td>\n",
       "    </tr>\n",
       "    <tr>\n",
       "      <th>1</th>\n",
       "      <td>http://bio2rdf.org/drugbank:DB00014</td>\n",
       "      <td>http://bio2rdf.org/pubchem.compound:11981235</td>\n",
       "    </tr>\n",
       "    <tr>\n",
       "      <th>2</th>\n",
       "      <td>http://bio2rdf.org/drugbank:DB00014</td>\n",
       "      <td>http://bio2rdf.org/pubchem.compound:11982741</td>\n",
       "    </tr>\n",
       "    <tr>\n",
       "      <th>3</th>\n",
       "      <td>http://bio2rdf.org/drugbank:DB00014</td>\n",
       "      <td>http://bio2rdf.org/pubchem.compound:16052011</td>\n",
       "    </tr>\n",
       "    <tr>\n",
       "      <th>4</th>\n",
       "      <td>http://bio2rdf.org/drugbank:DB00014</td>\n",
       "      <td>http://bio2rdf.org/pubchem.compound:23581804</td>\n",
       "    </tr>\n",
       "  </tbody>\n",
       "</table>\n",
       "</div>"
      ],
      "text/plain": [
       "                           drugbank_id  \\\n",
       "0  http://bio2rdf.org/drugbank:DB00014   \n",
       "1  http://bio2rdf.org/drugbank:DB00014   \n",
       "2  http://bio2rdf.org/drugbank:DB00014   \n",
       "3  http://bio2rdf.org/drugbank:DB00014   \n",
       "4  http://bio2rdf.org/drugbank:DB00014   \n",
       "\n",
       "                                     pubchem_id  \n",
       "0  http://bio2rdf.org/pubchem.compound:11980055  \n",
       "1  http://bio2rdf.org/pubchem.compound:11981235  \n",
       "2  http://bio2rdf.org/pubchem.compound:11982741  \n",
       "3  http://bio2rdf.org/pubchem.compound:16052011  \n",
       "4  http://bio2rdf.org/pubchem.compound:23581804  "
      ]
     },
     "execution_count": 9,
     "metadata": {},
     "output_type": "execute_result"
    }
   ],
   "source": [
    "drugbank_map_df.head()"
   ]
  },
  {
   "cell_type": "code",
   "execution_count": 10,
   "metadata": {},
   "outputs": [],
   "source": [
    "drugbank_map_df = drugbank_map_df.set_index('drugbank_id', drop=True)"
   ]
  },
  {
   "cell_type": "code",
   "execution_count": 11,
   "metadata": {},
   "outputs": [],
   "source": [
    "drugbank_map_df.rename(columns={'pubchem_id':'http://bio2rdf.org/openpredict_vocabulary:x-pubchemcompound'},inplace=True)"
   ]
  },
  {
   "cell_type": "code",
   "execution_count": 19,
   "metadata": {},
   "outputs": [],
   "source": [
    "column_types ={'http://bio2rdf.org/openpredict_vocabulary:x-pubchemcompound':'URI'}\n",
    "graphURI = URIRef('http://fairworkflows.org/openpredict_resource:fairworkflows.dataset.openpredict.pubchem.R1')\n",
    "g =  ConjunctiveGraph(identifier = graphURI)     \n",
    "\n",
    "g=  to_rdf(g, drugbank_map_df, column_types, 'http://bio2rdf.org/drugbank:Drug' )"
   ]
  },
  {
   "cell_type": "code",
   "execution_count": 20,
   "metadata": {},
   "outputs": [],
   "source": [
    "from rdflib import Namespace\n",
    "import datetime\n",
    "DC = Namespace(\"http://purl.org/dc/terms/\")\n",
    "def addProvanace(g, graphURI):\n",
    "    now = datetime.datetime.now()\n",
    "    \n",
    "    datasetURI= URIRef('https://github.com/fair-workflows/openpredict/data/rdf/pubchem_mapping.nq')\n",
    "    g.add((graphURI, RDF.type, DC.Dataset))\n",
    "    g.add((graphURI, URIRef('http://www.w3.org/ns/dcat#distribution'), datasetURI))\n",
    "    sourcedatasetURI =  URIRef('https://raw.githubusercontent.com/dhimmel/drugbank/3e87872db5fca5ac427ce27464ab945c0ceb4ec6/data/mapping/pubchem.tsv')\n",
    "    \n",
    "    g.add((datasetURI, DC['title'], Literal('Pubchem mapping for Drugbank ids ')))\n",
    "    g.add((datasetURI, DC['format'], Literal('application/n-quads')))\n",
    "    g.add((datasetURI, DC['created'], Literal(now.strftime(\"%Y-%m-%d %H:%M:%S\"))))\n",
    "    g.add((datasetURI, DC['creator'], Literal('https://github.com/fair-workflows/openpredict/RDFConversionOfPubchemMapping.ipynb')))\n",
    "\n",
    "    g.add((datasetURI, DC['homepage'], URIRef('https://github.com/fair-workflows/openpredict/')))\n",
    "    g.add((datasetURI, DC['license'], URIRef('http://creativecommons.org/licenses/by/3.0/')))\n",
    "    g.add((datasetURI, DC['rights'], Literal('use-share-modify')))\n",
    "    g.add((datasetURI, DC['rights'], Literal('by-attribution')))\n",
    "    g.add((datasetURI, DC['rights'], Literal('restricted-by-source-license')))\n",
    "\n",
    "    g.add((datasetURI, DC['source'], sourcedatasetURI))\n",
    "        \n",
    "    g.add((sourcedatasetURI, DC['title'], Literal('Mapping From Drugbank to Pubchem  (pubchem.tsv)')))\n",
    "    g.add((sourcedatasetURI, RDF['type'], URIRef('http://www.w3.org/ns/dcat#Distribution')))\n",
    "    g.add((sourcedatasetURI, DC['homepage'], URIRef('https://github.com/dhimmel/drugbank')))\n",
    "    g.add((sourcedatasetURI, URIRef('http://purl.org/pav/retrievedOn'), Literal(now.strftime(\"%Y-%m-%d %H:%M:%S\"))))\n",
    "    g.add((sourcedatasetURI, DC['format'], Literal('text/tsv')))\n",
    "    g.add((sourcedatasetURI, DC['rights'], URIRef('https://creativecommons.org/licenses/by-nc/4.0/')))\n",
    "    g.add((sourcedatasetURI, DC['publisher'], Literal('https://github.com/dhimmel/drugbank')))\n",
    "    g.add((sourcedatasetURI, DC['rights'], Literal('use')))\n",
    "    g.add((sourcedatasetURI, DC['rights'], Literal('no-commercial')))\n",
    "    \n",
    "    return g"
   ]
  },
  {
   "cell_type": "code",
   "execution_count": 21,
   "metadata": {},
   "outputs": [
    {
     "ename": "TypeError",
     "evalue": "addProvanace() missing 1 required positional argument: 'graphURI'",
     "output_type": "error",
     "traceback": [
      "\u001b[0;31m---------------------------------------------------------------------------\u001b[0m",
      "\u001b[0;31mTypeError\u001b[0m                                 Traceback (most recent call last)",
      "\u001b[0;32m<ipython-input-21-1c1ac01ca927>\u001b[0m in \u001b[0;36m<module>\u001b[0;34m\u001b[0m\n\u001b[0;32m----> 1\u001b[0;31m \u001b[0mg\u001b[0m\u001b[0;34m=\u001b[0m\u001b[0maddProvanace\u001b[0m\u001b[0;34m(\u001b[0m\u001b[0mg\u001b[0m\u001b[0;34m)\u001b[0m\u001b[0;34m\u001b[0m\u001b[0;34m\u001b[0m\u001b[0m\n\u001b[0m",
      "\u001b[0;31mTypeError\u001b[0m: addProvanace() missing 1 required positional argument: 'graphURI'"
     ]
    }
   ],
   "source": [
    "g=addProvanace(g)"
   ]
  },
  {
   "cell_type": "code",
   "execution_count": null,
   "metadata": {},
   "outputs": [],
   "source": [
    "g.serialize('data/rdf/pubchem_mapping.nq', format='nquads')"
   ]
  },
  {
   "cell_type": "code",
   "execution_count": null,
   "metadata": {},
   "outputs": [],
   "source": []
  }
 ],
 "metadata": {
  "kernelspec": {
   "display_name": "Python 3",
   "language": "python",
   "name": "python3"
  },
  "language_info": {
   "codemirror_mode": {
    "name": "ipython",
    "version": 3
   },
   "file_extension": ".py",
   "mimetype": "text/x-python",
   "name": "python",
   "nbconvert_exporter": "python",
   "pygments_lexer": "ipython3",
   "version": "3.7.3"
  }
 },
 "nbformat": 4,
 "nbformat_minor": 2
}
