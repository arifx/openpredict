{
 "cells": [
  {
   "cell_type": "code",
   "execution_count": 2,
   "metadata": {},
   "outputs": [],
   "source": [
    "import pandas as pd"
   ]
  },
  {
   "cell_type": "code",
   "execution_count": 39,
   "metadata": {},
   "outputs": [],
   "source": [
    "url = 'https://media.nature.com/full/nature-assets/srep/2016/161017/srep35241/extref/srep35241-s3.txt'\n",
    "interactome_df = pd.read_csv(url,skiprows=25,sep='\\t')"
   ]
  },
  {
   "cell_type": "code",
   "execution_count": 40,
   "metadata": {},
   "outputs": [
    {
     "data": {
      "text/html": [
       "<div>\n",
       "<style scoped>\n",
       "    .dataframe tbody tr th:only-of-type {\n",
       "        vertical-align: middle;\n",
       "    }\n",
       "\n",
       "    .dataframe tbody tr th {\n",
       "        vertical-align: top;\n",
       "    }\n",
       "\n",
       "    .dataframe thead th {\n",
       "        text-align: right;\n",
       "    }\n",
       "</style>\n",
       "<table border=\"1\" class=\"dataframe\">\n",
       "  <thead>\n",
       "    <tr style=\"text-align: right;\">\n",
       "      <th></th>\n",
       "      <th># gene_ID_1</th>\n",
       "      <th>gene_ID_2</th>\n",
       "      <th>data_source(s)</th>\n",
       "    </tr>\n",
       "  </thead>\n",
       "  <tbody>\n",
       "    <tr>\n",
       "      <th>0</th>\n",
       "      <td>1394</td>\n",
       "      <td>2778</td>\n",
       "      <td>literature</td>\n",
       "    </tr>\n",
       "    <tr>\n",
       "      <th>1</th>\n",
       "      <td>100290337</td>\n",
       "      <td>4214</td>\n",
       "      <td>literature</td>\n",
       "    </tr>\n",
       "    <tr>\n",
       "      <th>2</th>\n",
       "      <td>122704</td>\n",
       "      <td>54460</td>\n",
       "      <td>complexes</td>\n",
       "    </tr>\n",
       "    <tr>\n",
       "      <th>3</th>\n",
       "      <td>4790</td>\n",
       "      <td>79155</td>\n",
       "      <td>binary;literature;signaling</td>\n",
       "    </tr>\n",
       "    <tr>\n",
       "      <th>4</th>\n",
       "      <td>2597</td>\n",
       "      <td>70</td>\n",
       "      <td>signaling</td>\n",
       "    </tr>\n",
       "  </tbody>\n",
       "</table>\n",
       "</div>"
      ],
      "text/plain": [
       "   # gene_ID_1   gene_ID_2               data_source(s)\n",
       "0         1394        2778                   literature\n",
       "1    100290337        4214                   literature\n",
       "2       122704       54460                    complexes\n",
       "3         4790       79155  binary;literature;signaling\n",
       "4         2597          70                    signaling"
      ]
     },
     "execution_count": 40,
     "metadata": {},
     "output_type": "execute_result"
    }
   ],
   "source": [
    "interactome_df.head()"
   ]
  },
  {
   "cell_type": "code",
   "execution_count": 41,
   "metadata": {},
   "outputs": [],
   "source": [
    "interactome_df.rename(columns={'# gene_ID_1':'gene_id_1',' gene_ID_2':'gene_id_2','data_source(s)':'source'}, inplace=True)"
   ]
  },
  {
   "cell_type": "code",
   "execution_count": 42,
   "metadata": {},
   "outputs": [],
   "source": [
    "interactome_df.to_csv('data/external/human_interactome.tsv', sep='\\t', index=False)"
   ]
  },
  {
   "cell_type": "code",
   "execution_count": 43,
   "metadata": {},
   "outputs": [
    {
     "data": {
      "text/html": [
       "<div>\n",
       "<style scoped>\n",
       "    .dataframe tbody tr th:only-of-type {\n",
       "        vertical-align: middle;\n",
       "    }\n",
       "\n",
       "    .dataframe tbody tr th {\n",
       "        vertical-align: top;\n",
       "    }\n",
       "\n",
       "    .dataframe thead th {\n",
       "        text-align: right;\n",
       "    }\n",
       "</style>\n",
       "<table border=\"1\" class=\"dataframe\">\n",
       "  <thead>\n",
       "    <tr style=\"text-align: right;\">\n",
       "      <th></th>\n",
       "      <th>gene_id_1</th>\n",
       "      <th>gene_id_2</th>\n",
       "      <th>source</th>\n",
       "    </tr>\n",
       "  </thead>\n",
       "  <tbody>\n",
       "    <tr>\n",
       "      <th>0</th>\n",
       "      <td>1394</td>\n",
       "      <td>2778</td>\n",
       "      <td>literature</td>\n",
       "    </tr>\n",
       "    <tr>\n",
       "      <th>1</th>\n",
       "      <td>100290337</td>\n",
       "      <td>4214</td>\n",
       "      <td>literature</td>\n",
       "    </tr>\n",
       "    <tr>\n",
       "      <th>2</th>\n",
       "      <td>122704</td>\n",
       "      <td>54460</td>\n",
       "      <td>complexes</td>\n",
       "    </tr>\n",
       "    <tr>\n",
       "      <th>3</th>\n",
       "      <td>4790</td>\n",
       "      <td>79155</td>\n",
       "      <td>binary;literature;signaling</td>\n",
       "    </tr>\n",
       "    <tr>\n",
       "      <th>4</th>\n",
       "      <td>2597</td>\n",
       "      <td>70</td>\n",
       "      <td>signaling</td>\n",
       "    </tr>\n",
       "  </tbody>\n",
       "</table>\n",
       "</div>"
      ],
      "text/plain": [
       "   gene_id_1  gene_id_2                       source\n",
       "0       1394       2778                   literature\n",
       "1  100290337       4214                   literature\n",
       "2     122704      54460                    complexes\n",
       "3       4790      79155  binary;literature;signaling\n",
       "4       2597         70                    signaling"
      ]
     },
     "execution_count": 43,
     "metadata": {},
     "output_type": "execute_result"
    }
   ],
   "source": [
    "interactome_df.head()"
   ]
  },
  {
   "cell_type": "code",
   "execution_count": 44,
   "metadata": {},
   "outputs": [],
   "source": [
    "from rdflib import Graph, URIRef, Literal, RDF, ConjunctiveGraph\n",
    "def to_rdf(g, df, column_types, row_uri):\n",
    "    \"\"\"\n",
    "    Parameters\n",
    "    ----------\n",
    "    g : input rdflib.Graph  \n",
    "    df: DataFrame to be converted into RDF Graph\n",
    "    column_types: dictonary of column and its type, type can be URI or Literal\n",
    "    row_uri: rdf:type value for row index, should be URI\n",
    "    Returns\n",
    "    -------\n",
    "    g: rdflib.Graph generated from DataFrame object\n",
    "    \"\"\"\n",
    "    \n",
    "    for (index, series) in df.iterrows():\n",
    "        g.add((URIRef(index), RDF.type, URIRef(row_uri)) )\n",
    "        for (column, value) in series.iteritems():\n",
    "            if column_types[column] == 'URI':\n",
    "                g.add((URIRef(index), URIRef(column), URIRef(value)))\n",
    "            else:\n",
    "                g.add((URIRef(index), URIRef(column), Literal(value)))\n",
    "                \n",
    "    return g"
   ]
  },
  {
   "cell_type": "code",
   "execution_count": 47,
   "metadata": {},
   "outputs": [],
   "source": [
    "interactome_df.index =interactome_df.apply(lambda row: 'http://bio2rdf.org/openpredict_resource:'+str(row['gene_id_1'])+'_'+str(row['gene_id_2']), axis=1)"
   ]
  },
  {
   "cell_type": "code",
   "execution_count": 48,
   "metadata": {},
   "outputs": [],
   "source": [
    "interactome_df['gene_id_1'] = interactome_df['gene_id_1'].map(lambda x: 'http://bio2rdf.org/ncbigene:'+str(x))"
   ]
  },
  {
   "cell_type": "code",
   "execution_count": 49,
   "metadata": {},
   "outputs": [],
   "source": [
    "interactome_df['gene_id_2'] = interactome_df['gene_id_2'].map(lambda x: 'http://bio2rdf.org/ncbigene:'+str(x))"
   ]
  },
  {
   "cell_type": "code",
   "execution_count": 50,
   "metadata": {},
   "outputs": [
    {
     "data": {
      "text/html": [
       "<div>\n",
       "<style scoped>\n",
       "    .dataframe tbody tr th:only-of-type {\n",
       "        vertical-align: middle;\n",
       "    }\n",
       "\n",
       "    .dataframe tbody tr th {\n",
       "        vertical-align: top;\n",
       "    }\n",
       "\n",
       "    .dataframe thead th {\n",
       "        text-align: right;\n",
       "    }\n",
       "</style>\n",
       "<table border=\"1\" class=\"dataframe\">\n",
       "  <thead>\n",
       "    <tr style=\"text-align: right;\">\n",
       "      <th></th>\n",
       "      <th>gene_id_1</th>\n",
       "      <th>gene_id_2</th>\n",
       "      <th>source</th>\n",
       "    </tr>\n",
       "  </thead>\n",
       "  <tbody>\n",
       "    <tr>\n",
       "      <th>http://bio2rdf.org/openpredict_resource:1394_2778</th>\n",
       "      <td>http://bio2rdf.org/ncbigene:1394</td>\n",
       "      <td>http://bio2rdf.org/ncbigene:2778</td>\n",
       "      <td>literature</td>\n",
       "    </tr>\n",
       "    <tr>\n",
       "      <th>http://bio2rdf.org/openpredict_resource:100290337_4214</th>\n",
       "      <td>http://bio2rdf.org/ncbigene:100290337</td>\n",
       "      <td>http://bio2rdf.org/ncbigene:4214</td>\n",
       "      <td>literature</td>\n",
       "    </tr>\n",
       "    <tr>\n",
       "      <th>http://bio2rdf.org/openpredict_resource:122704_54460</th>\n",
       "      <td>http://bio2rdf.org/ncbigene:122704</td>\n",
       "      <td>http://bio2rdf.org/ncbigene:54460</td>\n",
       "      <td>complexes</td>\n",
       "    </tr>\n",
       "    <tr>\n",
       "      <th>http://bio2rdf.org/openpredict_resource:4790_79155</th>\n",
       "      <td>http://bio2rdf.org/ncbigene:4790</td>\n",
       "      <td>http://bio2rdf.org/ncbigene:79155</td>\n",
       "      <td>binary;literature;signaling</td>\n",
       "    </tr>\n",
       "    <tr>\n",
       "      <th>http://bio2rdf.org/openpredict_resource:2597_70</th>\n",
       "      <td>http://bio2rdf.org/ncbigene:2597</td>\n",
       "      <td>http://bio2rdf.org/ncbigene:70</td>\n",
       "      <td>signaling</td>\n",
       "    </tr>\n",
       "  </tbody>\n",
       "</table>\n",
       "</div>"
      ],
      "text/plain": [
       "                                                                                gene_id_1  \\\n",
       "http://bio2rdf.org/openpredict_resource:1394_2778        http://bio2rdf.org/ncbigene:1394   \n",
       "http://bio2rdf.org/openpredict_resource:1002903...  http://bio2rdf.org/ncbigene:100290337   \n",
       "http://bio2rdf.org/openpredict_resource:122704_...     http://bio2rdf.org/ncbigene:122704   \n",
       "http://bio2rdf.org/openpredict_resource:4790_79155       http://bio2rdf.org/ncbigene:4790   \n",
       "http://bio2rdf.org/openpredict_resource:2597_70          http://bio2rdf.org/ncbigene:2597   \n",
       "\n",
       "                                                                            gene_id_2  \\\n",
       "http://bio2rdf.org/openpredict_resource:1394_2778    http://bio2rdf.org/ncbigene:2778   \n",
       "http://bio2rdf.org/openpredict_resource:1002903...   http://bio2rdf.org/ncbigene:4214   \n",
       "http://bio2rdf.org/openpredict_resource:122704_...  http://bio2rdf.org/ncbigene:54460   \n",
       "http://bio2rdf.org/openpredict_resource:4790_79155  http://bio2rdf.org/ncbigene:79155   \n",
       "http://bio2rdf.org/openpredict_resource:2597_70        http://bio2rdf.org/ncbigene:70   \n",
       "\n",
       "                                                                         source  \n",
       "http://bio2rdf.org/openpredict_resource:1394_2778                    literature  \n",
       "http://bio2rdf.org/openpredict_resource:1002903...                   literature  \n",
       "http://bio2rdf.org/openpredict_resource:122704_...                    complexes  \n",
       "http://bio2rdf.org/openpredict_resource:4790_79155  binary;literature;signaling  \n",
       "http://bio2rdf.org/openpredict_resource:2597_70                       signaling  "
      ]
     },
     "execution_count": 50,
     "metadata": {},
     "output_type": "execute_result"
    }
   ],
   "source": [
    "interactome_df.head()"
   ]
  },
  {
   "cell_type": "code",
   "execution_count": 51,
   "metadata": {},
   "outputs": [],
   "source": [
    "interactome_df.rename(columns={'gene_id_1':'http://bio2rdf.org/irefindex_vocabulary:interactor_a'},inplace=True)"
   ]
  },
  {
   "cell_type": "code",
   "execution_count": 52,
   "metadata": {},
   "outputs": [],
   "source": [
    "interactome_df.rename(columns={'gene_id_2':'http://bio2rdf.org/irefindex_vocabulary:interactor_b'},inplace=True)"
   ]
  },
  {
   "cell_type": "code",
   "execution_count": 53,
   "metadata": {},
   "outputs": [],
   "source": [
    "interactome_df.rename(columns={'source':'http://bio2rdf.org/irefindex_vocabulary:source'},inplace=True)"
   ]
  },
  {
   "cell_type": "code",
   "execution_count": 55,
   "metadata": {},
   "outputs": [],
   "source": [
    "column_types ={'http://bio2rdf.org/irefindex_vocabulary:interactor_a':'URI','http://bio2rdf.org/irefindex_vocabulary:interactor_b':'URI','http://bio2rdf.org/irefindex_vocabulary:source':'Literal'}\n",
    "graphURI = URIRef('http://fairworkflows.org/openpredict_resource:fairworkflows.dataset.openpredict.interactome.R1')\n",
    "g =  ConjunctiveGraph(identifier = graphURI)     \n",
    "\n",
    "g=  to_rdf(g, interactome_df, column_types, 'http://edamontology.org/topic_0128' )"
   ]
  },
  {
   "cell_type": "code",
   "execution_count": 56,
   "metadata": {},
   "outputs": [],
   "source": [
    "from rdflib import Namespace\n",
    "import datetime\n",
    "DC = Namespace(\"http://purl.org/dc/terms/\")\n",
    "def addProvanace(g, graphURI):\n",
    "    now = datetime.datetime.now()\n",
    "    \n",
    "    datasetURI= URIRef('https://github.com/fair-workflows/openpredict/data/rdf/human_interactome.nq')\n",
    "    g.add((graphURI, RDF.type, DC.Dataset))\n",
    "    g.add((graphURI, URIRef('http://www.w3.org/ns/dcat#distribution'), datasetURI))\n",
    "    sourcedatasetURI =  URIRef('https://media.nature.com/full/nature-assets/srep/2016/161017/srep35241/extref/srep35241-s3.txt')\n",
    "    \n",
    "    g.add((datasetURI, DC['title'], Literal('RDF Version of the Human Interactome')))\n",
    "    g.add((datasetURI, DC['format'], Literal('application/n-quads')))\n",
    "    g.add((datasetURI, DC['created'], Literal(now.strftime(\"%Y-%m-%d %H:%M:%S\"))))\n",
    "    g.add((datasetURI, DC['creator'], Literal('https://github.com/fair-workflows/openpredict/HumanInteractome.ipynb')))\n",
    "\n",
    "    g.add((datasetURI, DC['homepage'], URIRef('https://github.com/fair-workflows/openpredict/')))\n",
    "    g.add((datasetURI, DC['license'], URIRef('http://creativecommons.org/licenses/by/3.0/')))\n",
    "    g.add((datasetURI, DC['rights'], Literal('use-share-modify')))\n",
    "    g.add((datasetURI, DC['rights'], Literal('by-attribution')))\n",
    "    g.add((datasetURI, DC['rights'], Literal('restricted-by-source-license')))\n",
    "\n",
    "    g.add((datasetURI, DC['source'], sourcedatasetURI))\n",
    "        \n",
    "    g.add((sourcedatasetURI, DC['title'], Literal('The Human Interactome used in Uncovering Disease-Disease Relationships Through The Human Interactome  (srep35241-s3.txt)')))\n",
    "    g.add((sourcedatasetURI, RDF['type'], URIRef('http://www.w3.org/ns/dcat#Distribution')))\n",
    "    g.add((sourcedatasetURI, DC['homepage'], URIRef('https://dx.doi.org/10.1126%2Fscience.1257601')))\n",
    "    g.add((sourcedatasetURI, URIRef('http://purl.org/pav/retrievedOn'), Literal(now.strftime(\"%Y-%m-%d %H:%M:%S\"))))\n",
    "    g.add((sourcedatasetURI, DC['format'], Literal('text')))\n",
    "    g.add((sourcedatasetURI, DC['rights'], URIRef('https://creativecommons.org/publicdomain/mark/1.0/')))\n",
    "    g.add((sourcedatasetURI, DC['publisher'], Literal('https://science.sciencemag.org/')))\n",
    "    g.add((sourcedatasetURI, DC['rights'], Literal('use')))\n",
    "    g.add((sourcedatasetURI, DC['rights'], Literal('allow-commercial-purposes')))\n",
    "    \n",
    "    return g"
   ]
  },
  {
   "cell_type": "code",
   "execution_count": 57,
   "metadata": {},
   "outputs": [],
   "source": [
    "g=addProvanace(g, graphURI)"
   ]
  },
  {
   "cell_type": "code",
   "execution_count": 58,
   "metadata": {},
   "outputs": [],
   "source": [
    "g.serialize('data/rdf/human_interactome.nq', format='nquads')"
   ]
  },
  {
   "cell_type": "code",
   "execution_count": null,
   "metadata": {},
   "outputs": [],
   "source": []
  }
 ],
 "metadata": {
  "kernelspec": {
   "display_name": "Python 3",
   "language": "python",
   "name": "python3"
  },
  "language_info": {
   "codemirror_mode": {
    "name": "ipython",
    "version": 3
   },
   "file_extension": ".py",
   "mimetype": "text/x-python",
   "name": "python",
   "nbconvert_exporter": "python",
   "pygments_lexer": "ipython3",
   "version": "3.7.3"
  }
 },
 "nbformat": 4,
 "nbformat_minor": 2
}
