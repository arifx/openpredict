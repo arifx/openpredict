{
 "cells": [
  {
   "cell_type": "code",
   "execution_count": 2,
   "metadata": {},
   "outputs": [],
   "source": [
    "\n",
    "\"\"\"\n",
    "RDF generator for the Human Interactome (https://media.nature.com/full/nature-assets/srep/2016/161017/srep35241/extref/srep35241-s3.txt)\n",
    "@version 1.0\n",
    "@author Remzi Celebi\n",
    "\"\"\"\n",
    "\n",
    "import pandas as pd\n",
    "from src.util import utils\n",
    "from src.util.utils import Dataset, DataResource\n",
    "\n",
    "from rdflib import Namespace\n",
    "from rdflib import Graph, URIRef, Literal, RDF, ConjunctiveGraph\n",
    "import datetime"
   ]
  },
  {
   "cell_type": "code",
   "execution_count": 3,
   "metadata": {},
   "outputs": [],
   "source": [
    "def download():\n",
    "    url = 'https://media.nature.com/full/nature-assets/srep/2016/161017/srep35241/extref/srep35241-s3.txt'\n",
    "    return pd.read_csv(url,skiprows=25,sep='\\t')"
   ]
  },
  {
   "cell_type": "code",
   "execution_count": 4,
   "metadata": {},
   "outputs": [
    {
     "data": {
      "text/html": [
       "<div>\n",
       "<style scoped>\n",
       "    .dataframe tbody tr th:only-of-type {\n",
       "        vertical-align: middle;\n",
       "    }\n",
       "\n",
       "    .dataframe tbody tr th {\n",
       "        vertical-align: top;\n",
       "    }\n",
       "\n",
       "    .dataframe thead th {\n",
       "        text-align: right;\n",
       "    }\n",
       "</style>\n",
       "<table border=\"1\" class=\"dataframe\">\n",
       "  <thead>\n",
       "    <tr style=\"text-align: right;\">\n",
       "      <th></th>\n",
       "      <th>gene_id_1</th>\n",
       "      <th>gene_id_2</th>\n",
       "      <th>source</th>\n",
       "    </tr>\n",
       "  </thead>\n",
       "  <tbody>\n",
       "    <tr>\n",
       "      <th>0</th>\n",
       "      <td>1394</td>\n",
       "      <td>2778</td>\n",
       "      <td>literature</td>\n",
       "    </tr>\n",
       "    <tr>\n",
       "      <th>1</th>\n",
       "      <td>100290337</td>\n",
       "      <td>4214</td>\n",
       "      <td>literature</td>\n",
       "    </tr>\n",
       "    <tr>\n",
       "      <th>2</th>\n",
       "      <td>122704</td>\n",
       "      <td>54460</td>\n",
       "      <td>complexes</td>\n",
       "    </tr>\n",
       "    <tr>\n",
       "      <th>3</th>\n",
       "      <td>4790</td>\n",
       "      <td>79155</td>\n",
       "      <td>binary;literature;signaling</td>\n",
       "    </tr>\n",
       "    <tr>\n",
       "      <th>4</th>\n",
       "      <td>2597</td>\n",
       "      <td>70</td>\n",
       "      <td>signaling</td>\n",
       "    </tr>\n",
       "  </tbody>\n",
       "</table>\n",
       "</div>"
      ],
      "text/plain": [
       "   gene_id_1  gene_id_2                       source\n",
       "0       1394       2778                   literature\n",
       "1  100290337       4214                   literature\n",
       "2     122704      54460                    complexes\n",
       "3       4790      79155  binary;literature;signaling\n",
       "4       2597         70                    signaling"
      ]
     },
     "execution_count": 4,
     "metadata": {},
     "output_type": "execute_result"
    }
   ],
   "source": [
    "interactome_df = download()\n",
    "\n",
    "interactome_df.rename(columns={'# gene_ID_1':'gene_id_1',' gene_ID_2':'gene_id_2','data_source(s)':'source'}, inplace=True)\n",
    "interactome_df.head()"
   ]
  },
  {
   "cell_type": "code",
   "execution_count": 41,
   "metadata": {},
   "outputs": [],
   "source": [
    "interactome_df.rename(columns={'# gene_ID_1':'gene_id_1',' gene_ID_2':'gene_id_2','data_source(s)':'source'}, inplace=True)"
   ]
  },
  {
   "cell_type": "code",
   "execution_count": 5,
   "metadata": {},
   "outputs": [],
   "source": [
    "# save the file\n",
    "interactome_df.to_csv('data/external/human_interactome.tsv', sep='\\t', index=False)\n"
   ]
  },
  {
   "cell_type": "code",
   "execution_count": 6,
   "metadata": {},
   "outputs": [
    {
     "data": {
      "text/html": [
       "<div>\n",
       "<style scoped>\n",
       "    .dataframe tbody tr th:only-of-type {\n",
       "        vertical-align: middle;\n",
       "    }\n",
       "\n",
       "    .dataframe tbody tr th {\n",
       "        vertical-align: top;\n",
       "    }\n",
       "\n",
       "    .dataframe thead th {\n",
       "        text-align: right;\n",
       "    }\n",
       "</style>\n",
       "<table border=\"1\" class=\"dataframe\">\n",
       "  <thead>\n",
       "    <tr style=\"text-align: right;\">\n",
       "      <th></th>\n",
       "      <th>http://bio2rdf.org/irefindex_vocabulary:interactor_a</th>\n",
       "      <th>http://bio2rdf.org/irefindex_vocabulary:interactor_b</th>\n",
       "      <th>http://bio2rdf.org/irefindex_vocabulary:source</th>\n",
       "    </tr>\n",
       "  </thead>\n",
       "  <tbody>\n",
       "    <tr>\n",
       "      <th>http://bio2rdf.org/openpredict_resource:1394_2778</th>\n",
       "      <td>http://bio2rdf.org/ncbigene:1394</td>\n",
       "      <td>http://bio2rdf.org/ncbigene:2778</td>\n",
       "      <td>literature</td>\n",
       "    </tr>\n",
       "    <tr>\n",
       "      <th>http://bio2rdf.org/openpredict_resource:100290337_4214</th>\n",
       "      <td>http://bio2rdf.org/ncbigene:100290337</td>\n",
       "      <td>http://bio2rdf.org/ncbigene:4214</td>\n",
       "      <td>literature</td>\n",
       "    </tr>\n",
       "    <tr>\n",
       "      <th>http://bio2rdf.org/openpredict_resource:122704_54460</th>\n",
       "      <td>http://bio2rdf.org/ncbigene:122704</td>\n",
       "      <td>http://bio2rdf.org/ncbigene:54460</td>\n",
       "      <td>complexes</td>\n",
       "    </tr>\n",
       "    <tr>\n",
       "      <th>http://bio2rdf.org/openpredict_resource:4790_79155</th>\n",
       "      <td>http://bio2rdf.org/ncbigene:4790</td>\n",
       "      <td>http://bio2rdf.org/ncbigene:79155</td>\n",
       "      <td>binary;literature;signaling</td>\n",
       "    </tr>\n",
       "    <tr>\n",
       "      <th>http://bio2rdf.org/openpredict_resource:2597_70</th>\n",
       "      <td>http://bio2rdf.org/ncbigene:2597</td>\n",
       "      <td>http://bio2rdf.org/ncbigene:70</td>\n",
       "      <td>signaling</td>\n",
       "    </tr>\n",
       "  </tbody>\n",
       "</table>\n",
       "</div>"
      ],
      "text/plain": [
       "                                                   http://bio2rdf.org/irefindex_vocabulary:interactor_a  \\\n",
       "http://bio2rdf.org/openpredict_resource:1394_2778                    http://bio2rdf.org/ncbigene:1394     \n",
       "http://bio2rdf.org/openpredict_resource:1002903...              http://bio2rdf.org/ncbigene:100290337     \n",
       "http://bio2rdf.org/openpredict_resource:122704_...                 http://bio2rdf.org/ncbigene:122704     \n",
       "http://bio2rdf.org/openpredict_resource:4790_79155                   http://bio2rdf.org/ncbigene:4790     \n",
       "http://bio2rdf.org/openpredict_resource:2597_70                      http://bio2rdf.org/ncbigene:2597     \n",
       "\n",
       "                                                   http://bio2rdf.org/irefindex_vocabulary:interactor_b  \\\n",
       "http://bio2rdf.org/openpredict_resource:1394_2778                    http://bio2rdf.org/ncbigene:2778     \n",
       "http://bio2rdf.org/openpredict_resource:1002903...                   http://bio2rdf.org/ncbigene:4214     \n",
       "http://bio2rdf.org/openpredict_resource:122704_...                  http://bio2rdf.org/ncbigene:54460     \n",
       "http://bio2rdf.org/openpredict_resource:4790_79155                  http://bio2rdf.org/ncbigene:79155     \n",
       "http://bio2rdf.org/openpredict_resource:2597_70                        http://bio2rdf.org/ncbigene:70     \n",
       "\n",
       "                                                   http://bio2rdf.org/irefindex_vocabulary:source  \n",
       "http://bio2rdf.org/openpredict_resource:1394_2778                                      literature  \n",
       "http://bio2rdf.org/openpredict_resource:1002903...                                     literature  \n",
       "http://bio2rdf.org/openpredict_resource:122704_...                                      complexes  \n",
       "http://bio2rdf.org/openpredict_resource:4790_79155                    binary;literature;signaling  \n",
       "http://bio2rdf.org/openpredict_resource:2597_70                                         signaling  "
      ]
     },
     "execution_count": 6,
     "metadata": {},
     "output_type": "execute_result"
    }
   ],
   "source": [
    "interactome_df.index =interactome_df.apply(lambda row: 'http://bio2rdf.org/openpredict_resource:'+str(row['gene_id_1'])+'_'+str(row['gene_id_2']), axis=1)\n",
    "\n",
    "interactome_df['gene_id_1'] = interactome_df['gene_id_1'].map(lambda x: 'http://bio2rdf.org/ncbigene:'+str(x))\n",
    "interactome_df['gene_id_2'] = interactome_df['gene_id_2'].map(lambda x: 'http://bio2rdf.org/ncbigene:'+str(x))\n",
    "interactome_df.rename(columns={'gene_id_1':'http://bio2rdf.org/irefindex_vocabulary:interactor_a'},inplace=True)\n",
    "\n",
    "interactome_df.rename(columns={'gene_id_2':'http://bio2rdf.org/irefindex_vocabulary:interactor_b'},inplace=True)\n",
    "interactome_df.rename(columns={'source':'http://bio2rdf.org/irefindex_vocabulary:source'},inplace=True)\n",
    "\n",
    "interactome_df.head()"
   ]
  },
  {
   "cell_type": "code",
   "execution_count": 13,
   "metadata": {},
   "outputs": [],
   "source": [
    "column_types ={'http://bio2rdf.org/irefindex_vocabulary:interactor_a':'URI','http://bio2rdf.org/irefindex_vocabulary:interactor_b':'URI','http://bio2rdf.org/irefindex_vocabulary:source':'Literal'}\n",
    "graphURI = URIRef('http://w3id.org/fairworkflows/dataset.openpredict.interactome.R1')\n",
    "g =  ConjunctiveGraph(identifier = graphURI)     \n",
    "g=  utils.to_rdf(g, interactome_df, column_types, 'http://edamontology.org/topic_0128' )\n"
   ]
  },
  {
   "cell_type": "code",
   "execution_count": 14,
   "metadata": {},
   "outputs": [],
   "source": [
    "g.serialize('data/rdf/human_interactome.nq', format='nquads')"
   ]
  },
  {
   "cell_type": "code",
   "execution_count": 15,
   "metadata": {},
   "outputs": [],
   "source": [
    "from rdflib import Namespace\n",
    "import datetime\n",
    "def addMetaData(g, graphURI):\n",
    "    #generate dataset\n",
    "    data_source = Dataset(qname=graphURI, graph = g)\n",
    "    data_source.setURI(graphURI)\n",
    "    data_source.setTitle('The Human Interactome Dataset')\n",
    "    data_source.setDescription('Human Interactome data used in \"Uncovering Disease-Disease Relationships Through The Human Interactome\" study')\n",
    "    data_source.setPublisher('https://science.sciencemag.org/')\n",
    "    data_source.setPublisherName('American Association for the Advancement of Science')\n",
    "    data_source.addRight('no-commercial')\n",
    "    data_source.addRight('use')\n",
    "    data_source.addTheme('http://www.wikidata.org/entity/Q896177')\n",
    "    data_source.addTheme('http://www.wikidata.org/entity/Q25113323')\n",
    "    data_source.setLicense('https://www.sciencemag.org/about/terms-service')\n",
    "    data_source.setHomepage('https://dx.doi.org/10.1126%2Fscience.1257601')\n",
    "    data_source.setVersion('1.0')\n",
    "\n",
    "\n",
    "    #generate dataset distribution\n",
    "    data_dist = DataResource(qname=graphURI, graph = data_source.toRDF())\n",
    "    data_dist.setURI('http:/w3id.org/fairworkflows/dataset.openpredict.interactome/version/1/source')\n",
    "    data_dist.setTitle('The Human Interactome Dataset (srep35241-s3.txt)')\n",
    "    data_dist.setLicense('https://www.sciencemag.org/about/terms-service')\n",
    "    data_dist.setVersion('1.0')\n",
    "    data_dist.setFormat('text/tab-separated-value')\n",
    "    data_dist.setMediaType('text/tab-separated-value')\n",
    "    data_dist.setPublisher('https://science.sciencemag.org/')\n",
    "    data_dist.addRight('no-commercial')\n",
    "    data_dist.addRight('use')\n",
    "    data_dist.setRetrievedDate(datetime.datetime.now().strftime(\"%Y-%m-%d %H:%M:%S\"))\n",
    "    data_dist.setDataset(data_source.getURI())\n",
    "\n",
    "    #generate RDF data distrubtion\n",
    "    rdf_dist = DataResource(qname=graphURI, graph = data_dist.toRDF() )\n",
    "    rdf_dist.setURI('http:/w3id.org/fairworkflows/dataset.openpredict.interactome/version/1/rdf/data')\n",
    "    rdf_dist.setTitle('RDF Version of the Human Interactome')\n",
    "    rdf_dist.setLicense('http://creativecommons.org/licenses/by/3.0/')\n",
    "    rdf_dist.setVersion('1.0')\n",
    "    rdf_dist.setFormat('application/n-quads')\n",
    "    rdf_dist.setMediaType('application/n-quads')\n",
    "    rdf_dist.addRight('use-share-modify')\n",
    "    rdf_dist.addRight('by-attribution')\n",
    "    rdf_dist.addRight('restricted-by-source-license')\n",
    "    rdf_dist.setCreateDate(datetime.datetime.now().strftime(\"%Y-%m-%d %H:%M:%S\"))\n",
    "    rdf_dist.setCreator('https://github.com/fair-workflows/openpredict/src/HumanInteractome.py')\n",
    "    rdf_dist.setDownloadURL('https://github.com/fair-workflows/openpredict/blob/master/data/rdf/human_interactome.nq.gz')\n",
    "    rdf_dist.setDataset(data_dist.getURI())\n",
    "      \n",
    "    return rdf_dist.toRDF()"
   ]
  },
  {
   "cell_type": "code",
   "execution_count": 16,
   "metadata": {},
   "outputs": [],
   "source": [
    "graphURI = URIRef('http://w3id.org/fairworkflows/dataset.openpredict.interactome.R1')\n",
    "g = ConjunctiveGraph(identifier = graphURI) \n",
    "\n",
    "g = addMetaData(g, graphURI)\n"
   ]
  },
  {
   "cell_type": "code",
   "execution_count": 17,
   "metadata": {},
   "outputs": [],
   "source": [
    "g.serialize('data/rdf/human_interactome_metadata.nq', format='nquads')"
   ]
  },
  {
   "cell_type": "code",
   "execution_count": null,
   "metadata": {},
   "outputs": [],
   "source": []
  }
 ],
 "metadata": {
  "kernelspec": {
   "display_name": "Python 3",
   "language": "python",
   "name": "python3"
  },
  "language_info": {
   "codemirror_mode": {
    "name": "ipython",
    "version": 3
   },
   "file_extension": ".py",
   "mimetype": "text/x-python",
   "name": "python",
   "nbconvert_exporter": "python",
   "pygments_lexer": "ipython3",
   "version": "3.7.3"
  }
 },
 "nbformat": 4,
 "nbformat_minor": 2
}
