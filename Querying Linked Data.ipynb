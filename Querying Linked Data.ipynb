{
 "cells": [
  {
   "cell_type": "markdown",
   "metadata": {},
   "source": [
    "# Execute Sparql Queries and Download Data for Feature Extraction "
   ]
  },
  {
   "cell_type": "code",
   "execution_count": 1,
   "metadata": {},
   "outputs": [
    {
     "name": "stdout",
     "output_type": "stream",
     "text": [
      "  % Total    % Received % Xferd  Average Speed   Time    Time     Time  Current\n",
      "                                 Dload  Upload   Total   Spent    Left  Speed\n",
      "100 48837    0 47511  100  1326   109k   3127 --:--:-- --:--:-- --:--:--  112k\n"
     ]
    }
   ],
   "source": [
    "sparql_endpoint=\"http://graphdb.dumontierlab.com/repositories/bio2rdf_remzi\"\n",
    "!curl -H \"Accept: text/tab-separated-values\" --data-urlencode query@data/sparql/drugbank-drug-target.sparql {sparql_endpoint} > data/input/drugbank-drug-target.tab"
   ]
  },
  {
   "cell_type": "code",
   "execution_count": 2,
   "metadata": {},
   "outputs": [
    {
     "name": "stdout",
     "output_type": "stream",
     "text": [
      "  % Total    % Received % Xferd  Average Speed   Time    Time     Time  Current\n",
      "                                 Dload  Upload   Total   Spent    Left  Speed\n",
      "100 1216k    0 1215k  100   876  20612     14  0:01:02  0:01:00  0:00:02 13363\n"
     ]
    }
   ],
   "source": [
    "!curl -H \"Accept: text/tab-separated-values\" --data-urlencode query@data/sparql/drugbank-target-seq.sparql {sparql_endpoint} > data/input/drugbank-target-seq.tab"
   ]
  },
  {
   "cell_type": "code",
   "execution_count": 3,
   "metadata": {},
   "outputs": [
    {
     "name": "stdout",
     "output_type": "stream",
     "text": [
      "  % Total    % Received % Xferd  Average Speed   Time    Time     Time  Current\n",
      "                                 Dload  Upload   Total   Spent    Left  Speed\n",
      "100  451k    0  450k  100   767  2240k   3815 --:--:-- --:--:-- --:--:-- 2244k\n"
     ]
    }
   ],
   "source": [
    "!curl -H \"Accept: text/tab-separated-values\" --data-urlencode query@data/sparql/drugbank-drug-smiles.sparql {sparql_endpoint} > data/input/drugbank-drug-smiles.tab"
   ]
  },
  {
   "cell_type": "code",
   "execution_count": 4,
   "metadata": {},
   "outputs": [
    {
     "name": "stdout",
     "output_type": "stream",
     "text": [
      "  % Total    % Received % Xferd  Average Speed   Time    Time     Time  Current\n",
      "                                 Dload  Upload   Total   Spent    Left  Speed\n",
      "100 1243k    0 1242k  100  1464   284k    335  0:00:04  0:00:04 --:--:--  278k\n"
     ]
    }
   ],
   "source": [
    "!curl -H \"Accept: text/tab-separated-values\" --data-urlencode query@data/sparql/drugbank-drug-goa.sparql {sparql_endpoint} > data/input/drugbank-drug-goa.tab"
   ]
  },
  {
   "cell_type": "code",
   "execution_count": 5,
   "metadata": {},
   "outputs": [
    {
     "name": "stdout",
     "output_type": "stream",
     "text": [
      "  % Total    % Received % Xferd  Average Speed   Time    Time     Time  Current\n",
      "                                 Dload  Upload   Total   Spent    Left  Speed\n",
      "100 1269k    0 1268k  100  1136   199k    179  0:00:06  0:00:06 --:--:-- 24121\n"
     ]
    }
   ],
   "source": [
    "!curl -H \"Accept: text/tab-separated-values\" --data-urlencode query@data/sparql/drugbank-sider-sideeffects.sparql {sparql_endpoint} > data/input/drugbank-sider-se.tab"
   ]
  },
  {
   "cell_type": "code",
   "execution_count": 6,
   "metadata": {},
   "outputs": [
    {
     "name": "stdout",
     "output_type": "stream",
     "text": [
      "  % Total    % Received % Xferd  Average Speed   Time    Time     Time  Current\n",
      "                                 Dload  Upload   Total   Spent    Left  Speed\n",
      "100 39338    0 38676  100   662  1079k  18914 --:--:-- --:--:-- --:--:-- 1097k\n"
     ]
    }
   ],
   "source": [
    "!curl -H \"Accept: text/tab-separated-values\" --data-urlencode query@data/sparql/openpredict-omim-drug.sparql {sparql_endpoint} > data/input/openpredict-omim-drug.tab"
   ]
  },
  {
   "cell_type": "code",
   "execution_count": 7,
   "metadata": {},
   "outputs": [
    {
     "name": "stdout",
     "output_type": "stream",
     "text": [
      "  % Total    % Received % Xferd  Average Speed   Time    Time     Time  Current\n",
      "                                 Dload  Upload   Total   Spent    Left  Speed\n",
      "100 1749k    0 1748k  100   726  2099k    871 --:--:-- --:--:-- --:--:-- 2097k\n"
     ]
    }
   ],
   "source": [
    "!curl -H \"Accept: text/tab-separated-values\" --data-urlencode query@data/sparql/omim-disease-hpo.sparql {sparql_endpoint} > data/input/omim-disease-hpo.tab\n"
   ]
  },
  {
   "cell_type": "code",
   "execution_count": 8,
   "metadata": {},
   "outputs": [
    {
     "name": "stdout",
     "output_type": "stream",
     "text": [
      "  % Total    % Received % Xferd  Average Speed   Time    Time     Time  Current\n",
      "                                 Dload  Upload   Total   Spent    Left  Speed\n",
      "100  489k    0  488k  100   672   493k    678 --:--:-- --:--:-- --:--:--  493k\n"
     ]
    }
   ],
   "source": [
    "!curl -H \"Accept: text/tab-separated-values\" --data-urlencode query@data/sparql/omim-disease-mesh.sparql {sparql_endpoint} > data/input/omim-disease-mesh.tab\n"
   ]
  },
  {
   "cell_type": "code",
   "execution_count": 19,
   "metadata": {},
   "outputs": [
    {
     "name": "stdout",
     "output_type": "stream",
     "text": [
      "  % Total    % Received % Xferd  Average Speed   Time    Time     Time  Current\n",
      "                                 Dload  Upload   Total   Spent    Left  Speed\n",
      "100  888k    0  887k  100   560  35691     21  0:00:26  0:00:25  0:00:01  120k\n"
     ]
    }
   ],
   "source": [
    "!curl -H \"Accept: text/tab-separated-values\" --data-urlencode query@data/sparql/drugbank-drug-synonym.sparql {sparql_endpoint} > data/input/drugbank-drug-synonym.tab\n"
   ]
  },
  {
   "cell_type": "markdown",
   "metadata": {},
   "source": [
    "# Create Feature Matrix"
   ]
  },
  {
   "cell_type": "code",
   "execution_count": 9,
   "metadata": {},
   "outputs": [
    {
     "data": {
      "text/html": [
       "<div>\n",
       "<style scoped>\n",
       "    .dataframe tbody tr th:only-of-type {\n",
       "        vertical-align: middle;\n",
       "    }\n",
       "\n",
       "    .dataframe tbody tr th {\n",
       "        vertical-align: top;\n",
       "    }\n",
       "\n",
       "    .dataframe thead th {\n",
       "        text-align: right;\n",
       "    }\n",
       "</style>\n",
       "<table border=\"1\" class=\"dataframe\">\n",
       "  <thead>\n",
       "    <tr style=\"text-align: right;\">\n",
       "      <th></th>\n",
       "      <th>?drugid</th>\n",
       "      <th>?smiles</th>\n",
       "    </tr>\n",
       "  </thead>\n",
       "  <tbody>\n",
       "    <tr>\n",
       "      <th>0</th>\n",
       "      <td>DB00014</td>\n",
       "      <td>CC(C)C[C@H](NC(=O)[C@@H](COC(C)(C)C)NC(=O)[C@H...</td>\n",
       "    </tr>\n",
       "    <tr>\n",
       "      <th>1</th>\n",
       "      <td>DB00035</td>\n",
       "      <td>NC(=O)CC[C@@H]1NC(=O)[C@H](CC2=CC=CC=C2)NC(=O)...</td>\n",
       "    </tr>\n",
       "    <tr>\n",
       "      <th>2</th>\n",
       "      <td>DB00050</td>\n",
       "      <td>CC(C)C[C@H](NC(=O)[C@@H](CCCNC(N)=O)NC(=O)[C@H...</td>\n",
       "    </tr>\n",
       "    <tr>\n",
       "      <th>3</th>\n",
       "      <td>DB00091</td>\n",
       "      <td>CCC1NC(=O)C(C(O)C(C)CC=CC)N(C)C(=O)C(C(C)C)N(C...</td>\n",
       "    </tr>\n",
       "    <tr>\n",
       "      <th>4</th>\n",
       "      <td>DB00093</td>\n",
       "      <td>NCCCC[C@H](NC(=O)[C@@H]1CCCN1C(=O)[C@@H]1CSSC[...</td>\n",
       "    </tr>\n",
       "  </tbody>\n",
       "</table>\n",
       "</div>"
      ],
      "text/plain": [
       "   ?drugid                                            ?smiles\n",
       "0  DB00014  CC(C)C[C@H](NC(=O)[C@@H](COC(C)(C)C)NC(=O)[C@H...\n",
       "1  DB00035  NC(=O)CC[C@@H]1NC(=O)[C@H](CC2=CC=CC=C2)NC(=O)...\n",
       "2  DB00050  CC(C)C[C@H](NC(=O)[C@@H](CCCNC(N)=O)NC(=O)[C@H...\n",
       "3  DB00091  CCC1NC(=O)C(C(O)C(C)CC=CC)N(C)C(=O)C(C(C)C)N(C...\n",
       "4  DB00093  NCCCC[C@H](NC(=O)[C@@H]1CCCN1C(=O)[C@@H]1CSSC[..."
      ]
     },
     "execution_count": 9,
     "metadata": {},
     "output_type": "execute_result"
    }
   ],
   "source": [
    "import pandas as pd\n",
    "drug_target = pd.read_csv('data/input/drugbank-drug-target.tab',sep='\\t')\n",
    "target_seq = pd.read_csv('data/input/drugbank-target-seq.tab',sep='\\t')\n",
    "drug_goa = pd.read_csv('data/input/drugbank-drug-goa.tab',sep='\\t')\n",
    "drug_smiles = pd.read_csv('data/input/drugbank-drug-smiles.tab',sep='\\t')\n",
    "drug_se = pd.read_csv('data/input/drugbank-sider-se.tab',sep='\\t')\n",
    "drug_smiles.head()"
   ]
  },
  {
   "cell_type": "code",
   "execution_count": 10,
   "metadata": {},
   "outputs": [
    {
     "data": {
      "text/html": [
       "<div>\n",
       "<style scoped>\n",
       "    .dataframe tbody tr th:only-of-type {\n",
       "        vertical-align: middle;\n",
       "    }\n",
       "\n",
       "    .dataframe tbody tr th {\n",
       "        vertical-align: top;\n",
       "    }\n",
       "\n",
       "    .dataframe thead th {\n",
       "        text-align: right;\n",
       "    }\n",
       "</style>\n",
       "<table border=\"1\" class=\"dataframe\">\n",
       "  <thead>\n",
       "    <tr style=\"text-align: right;\">\n",
       "      <th></th>\n",
       "      <th>?geneid</th>\n",
       "      <th>?seq</th>\n",
       "    </tr>\n",
       "  </thead>\n",
       "  <tbody>\n",
       "    <tr>\n",
       "      <th>0</th>\n",
       "      <td>2147</td>\n",
       "      <td>&gt;Prothrombin precursor\\nMAHVRGLQLPGCLALAALCSLV...</td>\n",
       "    </tr>\n",
       "    <tr>\n",
       "      <th>1</th>\n",
       "      <td>1956</td>\n",
       "      <td>&gt;Epidermal growth factor receptor precursor\\nM...</td>\n",
       "    </tr>\n",
       "    <tr>\n",
       "      <th>2</th>\n",
       "      <td>2215</td>\n",
       "      <td>&gt;Low affinity immunoglobulin gamma Fc region r...</td>\n",
       "    </tr>\n",
       "    <tr>\n",
       "      <th>3</th>\n",
       "      <td>715</td>\n",
       "      <td>&gt;Complement C1r subcomponent\\nMWLLYLLVPALFCRAG...</td>\n",
       "    </tr>\n",
       "    <tr>\n",
       "      <th>4</th>\n",
       "      <td>712</td>\n",
       "      <td>&gt;Complement C1q subcomponent subunit A\\nMEGPRG...</td>\n",
       "    </tr>\n",
       "  </tbody>\n",
       "</table>\n",
       "</div>"
      ],
      "text/plain": [
       "   ?geneid                                               ?seq\n",
       "0     2147  >Prothrombin precursor\\nMAHVRGLQLPGCLALAALCSLV...\n",
       "1     1956  >Epidermal growth factor receptor precursor\\nM...\n",
       "2     2215  >Low affinity immunoglobulin gamma Fc region r...\n",
       "3      715  >Complement C1r subcomponent\\nMWLLYLLVPALFCRAG...\n",
       "4      712  >Complement C1q subcomponent subunit A\\nMEGPRG..."
      ]
     },
     "execution_count": 10,
     "metadata": {},
     "output_type": "execute_result"
    }
   ],
   "source": [
    "target_seq.head()"
   ]
  },
  {
   "cell_type": "code",
   "execution_count": 11,
   "metadata": {},
   "outputs": [
    {
     "data": {
      "text/html": [
       "<div>\n",
       "<style scoped>\n",
       "    .dataframe tbody tr th:only-of-type {\n",
       "        vertical-align: middle;\n",
       "    }\n",
       "\n",
       "    .dataframe tbody tr th {\n",
       "        vertical-align: top;\n",
       "    }\n",
       "\n",
       "    .dataframe thead th {\n",
       "        text-align: right;\n",
       "    }\n",
       "</style>\n",
       "<table border=\"1\" class=\"dataframe\">\n",
       "  <thead>\n",
       "    <tr style=\"text-align: right;\">\n",
       "      <th></th>\n",
       "      <th>?drugid</th>\n",
       "      <th>?umlsid</th>\n",
       "    </tr>\n",
       "  </thead>\n",
       "  <tbody>\n",
       "    <tr>\n",
       "      <th>0</th>\n",
       "      <td>DB00583</td>\n",
       "      <td>C0000729</td>\n",
       "    </tr>\n",
       "    <tr>\n",
       "      <th>1</th>\n",
       "      <td>DB00583</td>\n",
       "      <td>C0000737</td>\n",
       "    </tr>\n",
       "    <tr>\n",
       "      <th>2</th>\n",
       "      <td>DB00583</td>\n",
       "      <td>C0002418</td>\n",
       "    </tr>\n",
       "    <tr>\n",
       "      <th>3</th>\n",
       "      <td>DB00583</td>\n",
       "      <td>C0002871</td>\n",
       "    </tr>\n",
       "    <tr>\n",
       "      <th>4</th>\n",
       "      <td>DB00583</td>\n",
       "      <td>C0003123</td>\n",
       "    </tr>\n",
       "  </tbody>\n",
       "</table>\n",
       "</div>"
      ],
      "text/plain": [
       "   ?drugid   ?umlsid\n",
       "0  DB00583  C0000729\n",
       "1  DB00583  C0000737\n",
       "2  DB00583  C0002418\n",
       "3  DB00583  C0002871\n",
       "4  DB00583  C0003123"
      ]
     },
     "execution_count": 11,
     "metadata": {},
     "output_type": "execute_result"
    }
   ],
   "source": [
    "drug_se.head()"
   ]
  },
  {
   "cell_type": "code",
   "execution_count": 12,
   "metadata": {},
   "outputs": [
    {
     "data": {
      "text/html": [
       "<div>\n",
       "<style scoped>\n",
       "    .dataframe tbody tr th:only-of-type {\n",
       "        vertical-align: middle;\n",
       "    }\n",
       "\n",
       "    .dataframe tbody tr th {\n",
       "        vertical-align: top;\n",
       "    }\n",
       "\n",
       "    .dataframe thead th {\n",
       "        text-align: right;\n",
       "    }\n",
       "</style>\n",
       "<table border=\"1\" class=\"dataframe\">\n",
       "  <thead>\n",
       "    <tr style=\"text-align: right;\">\n",
       "      <th></th>\n",
       "      <th>?drugid</th>\n",
       "      <th>?g</th>\n",
       "    </tr>\n",
       "  </thead>\n",
       "  <tbody>\n",
       "    <tr>\n",
       "      <th>0</th>\n",
       "      <td>DB00337</td>\n",
       "      <td>go:0006468</td>\n",
       "    </tr>\n",
       "    <tr>\n",
       "      <th>1</th>\n",
       "      <td>DB00337</td>\n",
       "      <td>go:0016310</td>\n",
       "    </tr>\n",
       "    <tr>\n",
       "      <th>2</th>\n",
       "      <td>DB00337</td>\n",
       "      <td>go:0007165</td>\n",
       "    </tr>\n",
       "    <tr>\n",
       "      <th>3</th>\n",
       "      <td>DB00337</td>\n",
       "      <td>go:0007050</td>\n",
       "    </tr>\n",
       "    <tr>\n",
       "      <th>4</th>\n",
       "      <td>DB00337</td>\n",
       "      <td>go:0008543</td>\n",
       "    </tr>\n",
       "  </tbody>\n",
       "</table>\n",
       "</div>"
      ],
      "text/plain": [
       "   ?drugid          ?g\n",
       "0  DB00337  go:0006468\n",
       "1  DB00337  go:0016310\n",
       "2  DB00337  go:0007165\n",
       "3  DB00337  go:0007050\n",
       "4  DB00337  go:0008543"
      ]
     },
     "execution_count": 12,
     "metadata": {},
     "output_type": "execute_result"
    }
   ],
   "source": [
    "drug_goa.head()"
   ]
  },
  {
   "cell_type": "code",
   "execution_count": 13,
   "metadata": {},
   "outputs": [],
   "source": [
    "drug_goa.rename(columns={'?drugid':'drugid'}, inplace=True)\n",
    "drug_target.rename(columns={'?drugid':'drugid'}, inplace=True)\n",
    "drug_smiles.rename(columns={'?drugid':'drugid'}, inplace=True)\n",
    "drug_goa.rename(columns={'?drugid':'drugid'}, inplace=True)\n",
    "drug_se.rename(columns={'?drugid':'drugid'}, inplace=True)"
   ]
  },
  {
   "cell_type": "code",
   "execution_count": 14,
   "metadata": {},
   "outputs": [
    {
     "name": "stdout",
     "output_type": "stream",
     "text": [
      "579 579 7107 7107\n",
      "570\n"
     ]
    }
   ],
   "source": [
    "a=drug_goa['drugid'].unique()\n",
    "b=drug_target['drugid'].unique()\n",
    "c=drug_smiles['drugid'].unique()\n",
    "d=drug_smiles['drugid'].unique()\n",
    "commonDrugs= set(a).intersection(b).intersection(c).intersection(d)\n",
    "print (len(a),len(b),len(c),len(d))\n",
    "print (len(commonDrugs))"
   ]
  },
  {
   "cell_type": "code",
   "execution_count": 15,
   "metadata": {},
   "outputs": [
    {
     "name": "stdout",
     "output_type": "stream",
     "text": [
      "579 579 7107 524\n",
      "510\n"
     ]
    }
   ],
   "source": [
    "a=drug_goa['drugid'].unique()\n",
    "b=drug_target['drugid'].unique()\n",
    "c=drug_smiles['drugid'].unique()\n",
    "d=drug_se['drugid'].unique()\n",
    "commonDrugs= set(a).intersection(b).intersection(c).intersection(d)\n",
    "print (len(a),len(b),len(c),len(d))\n",
    "print (len(commonDrugs))"
   ]
  },
  {
   "cell_type": "code",
   "execution_count": 16,
   "metadata": {},
   "outputs": [
    {
     "data": {
      "text/html": [
       "<div>\n",
       "<style scoped>\n",
       "    .dataframe tbody tr th:only-of-type {\n",
       "        vertical-align: middle;\n",
       "    }\n",
       "\n",
       "    .dataframe tbody tr th {\n",
       "        vertical-align: top;\n",
       "    }\n",
       "\n",
       "    .dataframe thead th {\n",
       "        text-align: right;\n",
       "    }\n",
       "</style>\n",
       "<table border=\"1\" class=\"dataframe\">\n",
       "  <thead>\n",
       "    <tr style=\"text-align: right;\">\n",
       "      <th></th>\n",
       "      <th>?drugid</th>\n",
       "      <th>?omimid</th>\n",
       "    </tr>\n",
       "  </thead>\n",
       "  <tbody>\n",
       "    <tr>\n",
       "      <th>0</th>\n",
       "      <td>DB00337</td>\n",
       "      <td>omim:233810</td>\n",
       "    </tr>\n",
       "    <tr>\n",
       "      <th>1</th>\n",
       "      <td>DB00337</td>\n",
       "      <td>omim:603165</td>\n",
       "    </tr>\n",
       "    <tr>\n",
       "      <th>2</th>\n",
       "      <td>DB00945</td>\n",
       "      <td>omim:152700</td>\n",
       "    </tr>\n",
       "    <tr>\n",
       "      <th>3</th>\n",
       "      <td>DB00945</td>\n",
       "      <td>omim:140600</td>\n",
       "    </tr>\n",
       "    <tr>\n",
       "      <th>4</th>\n",
       "      <td>DB00945</td>\n",
       "      <td>omim:147530</td>\n",
       "    </tr>\n",
       "  </tbody>\n",
       "</table>\n",
       "</div>"
      ],
      "text/plain": [
       "   ?drugid      ?omimid\n",
       "0  DB00337  omim:233810\n",
       "1  DB00337  omim:603165\n",
       "2  DB00945  omim:152700\n",
       "3  DB00945  omim:140600\n",
       "4  DB00945  omim:147530"
      ]
     },
     "execution_count": 16,
     "metadata": {},
     "output_type": "execute_result"
    }
   ],
   "source": [
    "gold_ind =pd.read_csv('data/input/openpredict-omim-drug.tab',sep='\\t')\n",
    "gold_ind.head()"
   ]
  },
  {
   "cell_type": "code",
   "execution_count": 17,
   "metadata": {},
   "outputs": [],
   "source": [
    "gold_ind.rename(columns={'?drugid':'Drug','?omimid':'Disease'}, inplace=True)"
   ]
  },
  {
   "cell_type": "code",
   "execution_count": 18,
   "metadata": {},
   "outputs": [
    {
     "name": "stdout",
     "output_type": "stream",
     "text": [
      "510 drugs have all features \n",
      "579 drugs have all GOA feature \n",
      "579 drugs have all Target feature \n",
      "583 drugs have all Fingerprint feature \n",
      "524 drugs have all Sideeffect feature \n"
     ]
    }
   ],
   "source": [
    "print (\"%d drugs have all features \"%len( commonDrugs.intersection( gold_ind.Drug.unique())))\n",
    "print (\"%d drugs have all GOA feature \"%len( set(a).intersection( gold_ind.Drug.unique())))\n",
    "print (\"%d drugs have all Target feature \"%len( set(b).intersection( gold_ind.Drug.unique())))\n",
    "print (\"%d drugs have all Fingerprint feature \"%len( set(c).intersection( gold_ind.Drug.unique())))\n",
    "print (\"%d drugs have all Sideeffect feature \"%len( set(d).intersection( gold_ind.Drug.unique())))"
   ]
  },
  {
   "cell_type": "code",
   "execution_count": null,
   "metadata": {},
   "outputs": [],
   "source": []
  }
 ],
 "metadata": {
  "kernelspec": {
   "display_name": "Python 3",
   "language": "python",
   "name": "python3"
  },
  "language_info": {
   "codemirror_mode": {
    "name": "ipython",
    "version": 3
   },
   "file_extension": ".py",
   "mimetype": "text/x-python",
   "name": "python",
   "nbconvert_exporter": "python",
   "pygments_lexer": "ipython3",
   "version": "3.7.3"
  }
 },
 "nbformat": 4,
 "nbformat_minor": 2
}
