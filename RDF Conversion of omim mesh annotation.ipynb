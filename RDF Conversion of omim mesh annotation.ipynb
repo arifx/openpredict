{
 "cells": [
  {
   "cell_type": "code",
   "execution_count": 1,
   "metadata": {},
   "outputs": [],
   "source": [
    "import pandas as pd"
   ]
  },
  {
   "cell_type": "code",
   "execution_count": 2,
   "metadata": {},
   "outputs": [
    {
     "name": "stdout",
     "output_type": "stream",
     "text": [
      "--2019-05-15 20:04:17--  http://www.paccanarolab.org/static_content/disease_similarity/Bundle.tgz\n",
      "Resolving www.paccanarolab.org (www.paccanarolab.org)... 134.219.149.219\n",
      "Connecting to www.paccanarolab.org (www.paccanarolab.org)|134.219.149.219|:80... connected.\n",
      "HTTP request sent, awaiting response... 200 OK\n",
      "Length: 684214131 (653M) [application/x-gzip]\n",
      "Saving to: ‘external_data/Bundle.tgz.1’\n",
      "\n",
      "Bundle.tgz.1        100%[===================>] 652.52M  33.7MB/s    in 19s     \n",
      "\n",
      "2019-05-15 20:04:36 (35.2 MB/s) - ‘external_data/Bundle.tgz.1’ saved [684214131/684214131]\n",
      "\n"
     ]
    }
   ],
   "source": [
    "!wget http://www.paccanarolab.org/static_content/disease_similarity/Bundle.tgz -P external_data/"
   ]
  },
  {
   "cell_type": "code",
   "execution_count": 4,
   "metadata": {},
   "outputs": [
    {
     "name": "stdout",
     "output_type": "stream",
     "text": [
      "./Bundle/Data/Competitors/park_similarity\n",
      "./Bundle/Data/OutputData/\n",
      "./Bundle/Data/OutputData/disease_similarity\n",
      "./Bundle/Data/IntermediateData/\n",
      "./Bundle/Data/IntermediateData/mim2mesh\n",
      "./Bundle/Data/IntermediateData/pubmed2mesh\n",
      "./Bundle/Data/IntermediateData/mim2pubmed\n"
     ]
    }
   ],
   "source": [
    "!tar zxvf external_data/Bundle.tgz --directory external_data/"
   ]
  },
  {
   "cell_type": "code",
   "execution_count": 5,
   "metadata": {},
   "outputs": [],
   "source": [
    "omim_annots =[]\n",
    "with open('external_data/Bundle/Data/IntermediateData/mim2mesh','r') as mim2mesh_file:\n",
    "    for row in mim2mesh_file:\n",
    "        line = row.strip().split('\\t')\n",
    "        omim =line[0]\n",
    "        for i in range(1,len(line)):\n",
    "            omim_annots.append([omim,line[i]])"
   ]
  },
  {
   "cell_type": "code",
   "execution_count": 6,
   "metadata": {},
   "outputs": [],
   "source": [
    "mim2mesh_df = pd.DataFrame(omim_annots, columns=['disease','annotation'])"
   ]
  },
  {
   "cell_type": "code",
   "execution_count": 7,
   "metadata": {},
   "outputs": [
    {
     "data": {
      "text/html": [
       "<div>\n",
       "<style scoped>\n",
       "    .dataframe tbody tr th:only-of-type {\n",
       "        vertical-align: middle;\n",
       "    }\n",
       "\n",
       "    .dataframe tbody tr th {\n",
       "        vertical-align: top;\n",
       "    }\n",
       "\n",
       "    .dataframe thead th {\n",
       "        text-align: right;\n",
       "    }\n",
       "</style>\n",
       "<table border=\"1\" class=\"dataframe\">\n",
       "  <thead>\n",
       "    <tr style=\"text-align: right;\">\n",
       "      <th></th>\n",
       "      <th>disease</th>\n",
       "      <th>annotation</th>\n",
       "    </tr>\n",
       "  </thead>\n",
       "  <tbody>\n",
       "    <tr>\n",
       "      <th>0</th>\n",
       "      <td>110000</td>\n",
       "      <td>D000293</td>\n",
       "    </tr>\n",
       "    <tr>\n",
       "      <th>1</th>\n",
       "      <td>110000</td>\n",
       "      <td>D000328</td>\n",
       "    </tr>\n",
       "    <tr>\n",
       "      <th>2</th>\n",
       "      <td>110000</td>\n",
       "      <td>D000368</td>\n",
       "    </tr>\n",
       "    <tr>\n",
       "      <th>3</th>\n",
       "      <td>110000</td>\n",
       "      <td>D003483</td>\n",
       "    </tr>\n",
       "    <tr>\n",
       "      <th>4</th>\n",
       "      <td>110000</td>\n",
       "      <td>D003937</td>\n",
       "    </tr>\n",
       "  </tbody>\n",
       "</table>\n",
       "</div>"
      ],
      "text/plain": [
       "  disease annotation\n",
       "0  110000    D000293\n",
       "1  110000    D000328\n",
       "2  110000    D000368\n",
       "3  110000    D003483\n",
       "4  110000    D003937"
      ]
     },
     "execution_count": 7,
     "metadata": {},
     "output_type": "execute_result"
    }
   ],
   "source": [
    "mim2mesh_df.head()"
   ]
  },
  {
   "cell_type": "code",
   "execution_count": 13,
   "metadata": {},
   "outputs": [],
   "source": [
    "from rdflib import Graph, URIRef, Literal, RDF, ConjunctiveGraph\n",
    "def to_rdf(g, df, column_types, row_uri):\n",
    "    \"\"\"\n",
    "    Parameters\n",
    "    ----------\n",
    "    g : input rdflib.Graph  \n",
    "    df: DataFrame to be converted into RDF Graph\n",
    "    column_types: dictonary of column and its type, type can be URI or Literal\n",
    "    row_uri: rdf:type value for row index, should be URI\n",
    "    Returns\n",
    "    -------\n",
    "    g: rdflib.Graph generated from DataFrame object\n",
    "    \"\"\"\n",
    "    \n",
    "    for (index, series) in df.iterrows():\n",
    "        g.add((URIRef(index), RDF.type, URIRef(row_uri)) )\n",
    "        for (column, value) in series.iteritems():\n",
    "            if column_types[column] == 'URI':\n",
    "                g.add((URIRef(index), URIRef(column), URIRef(value)))\n",
    "            else:\n",
    "                g.add((URIRef(index), URIRef(column), Literal(value)))\n",
    "                \n",
    "    return g"
   ]
  },
  {
   "cell_type": "code",
   "execution_count": 9,
   "metadata": {},
   "outputs": [],
   "source": [
    "mim2mesh_df['disease'] = mim2mesh_df['disease'].map(lambda x: 'http://bio2rdf.org/omim:'+str(x))"
   ]
  },
  {
   "cell_type": "code",
   "execution_count": 10,
   "metadata": {},
   "outputs": [],
   "source": [
    "mim2mesh_df['annotation'] = mim2mesh_df['annotation'].map(lambda x: 'http://bio2rdf.org/mesh:'+str(x))"
   ]
  },
  {
   "cell_type": "code",
   "execution_count": 11,
   "metadata": {},
   "outputs": [
    {
     "data": {
      "text/html": [
       "<div>\n",
       "<style scoped>\n",
       "    .dataframe tbody tr th:only-of-type {\n",
       "        vertical-align: middle;\n",
       "    }\n",
       "\n",
       "    .dataframe tbody tr th {\n",
       "        vertical-align: top;\n",
       "    }\n",
       "\n",
       "    .dataframe thead th {\n",
       "        text-align: right;\n",
       "    }\n",
       "</style>\n",
       "<table border=\"1\" class=\"dataframe\">\n",
       "  <thead>\n",
       "    <tr style=\"text-align: right;\">\n",
       "      <th></th>\n",
       "      <th>disease</th>\n",
       "      <th>annotation</th>\n",
       "    </tr>\n",
       "  </thead>\n",
       "  <tbody>\n",
       "    <tr>\n",
       "      <th>0</th>\n",
       "      <td>http://bio2rdf.org/omim:110000</td>\n",
       "      <td>http://bio2rdf.org/mesh:D000293</td>\n",
       "    </tr>\n",
       "    <tr>\n",
       "      <th>1</th>\n",
       "      <td>http://bio2rdf.org/omim:110000</td>\n",
       "      <td>http://bio2rdf.org/mesh:D000328</td>\n",
       "    </tr>\n",
       "    <tr>\n",
       "      <th>2</th>\n",
       "      <td>http://bio2rdf.org/omim:110000</td>\n",
       "      <td>http://bio2rdf.org/mesh:D000368</td>\n",
       "    </tr>\n",
       "    <tr>\n",
       "      <th>3</th>\n",
       "      <td>http://bio2rdf.org/omim:110000</td>\n",
       "      <td>http://bio2rdf.org/mesh:D003483</td>\n",
       "    </tr>\n",
       "    <tr>\n",
       "      <th>4</th>\n",
       "      <td>http://bio2rdf.org/omim:110000</td>\n",
       "      <td>http://bio2rdf.org/mesh:D003937</td>\n",
       "    </tr>\n",
       "  </tbody>\n",
       "</table>\n",
       "</div>"
      ],
      "text/plain": [
       "                          disease                       annotation\n",
       "0  http://bio2rdf.org/omim:110000  http://bio2rdf.org/mesh:D000293\n",
       "1  http://bio2rdf.org/omim:110000  http://bio2rdf.org/mesh:D000328\n",
       "2  http://bio2rdf.org/omim:110000  http://bio2rdf.org/mesh:D000368\n",
       "3  http://bio2rdf.org/omim:110000  http://bio2rdf.org/mesh:D003483\n",
       "4  http://bio2rdf.org/omim:110000  http://bio2rdf.org/mesh:D003937"
      ]
     },
     "execution_count": 11,
     "metadata": {},
     "output_type": "execute_result"
    }
   ],
   "source": [
    "mim2mesh_df.head()"
   ]
  },
  {
   "cell_type": "code",
   "execution_count": 12,
   "metadata": {},
   "outputs": [],
   "source": [
    "mim2mesh_df = mim2mesh_df.set_index('disease', drop=True)"
   ]
  },
  {
   "cell_type": "code",
   "execution_count": 15,
   "metadata": {},
   "outputs": [],
   "source": [
    "mim2mesh_df.rename(columns={'annotation':'http://bio2rdf.org/openpredict_vocabulary:annotation'},inplace=True)"
   ]
  },
  {
   "cell_type": "code",
   "execution_count": 16,
   "metadata": {},
   "outputs": [],
   "source": [
    "column_types ={'http://bio2rdf.org/openpredict_vocabulary:annotation':'URI'}\n",
    "g =  ConjunctiveGraph(identifier = URIRef('http://bio2rdf.org/openpredict_resource:fairworkflows.dataset.openpredict.meshannot.R1'))     \n",
    "g=  to_rdf(g, mim2mesh_df, column_types, 'http://bio2rdf.org/omim_vocabulary:Predominantly-phenotypes' )"
   ]
  },
  {
   "cell_type": "code",
   "execution_count": 17,
   "metadata": {},
   "outputs": [],
   "source": [
    "g.serialize('data/rdf/omim_mesh_annotations.nq', format='nquads')"
   ]
  },
  {
   "cell_type": "code",
   "execution_count": null,
   "metadata": {},
   "outputs": [],
   "source": []
  }
 ],
 "metadata": {
  "kernelspec": {
   "display_name": "Python 3",
   "language": "python",
   "name": "python3"
  },
  "language_info": {
   "codemirror_mode": {
    "name": "ipython",
    "version": 3
   },
   "file_extension": ".py",
   "mimetype": "text/x-python",
   "name": "python",
   "nbconvert_exporter": "python",
   "pygments_lexer": "ipython3",
   "version": "3.7.3"
  }
 },
 "nbformat": 4,
 "nbformat_minor": 2
}
